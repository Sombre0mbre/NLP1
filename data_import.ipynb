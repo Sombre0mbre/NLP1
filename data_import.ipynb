{
 "cells": [
  {
   "cell_type": "code",
   "execution_count": 69,
   "outputs": [
    {
     "name": "stderr",
     "output_type": "stream",
     "text": [
      "Reusing dataset imdb (/Users/alexisjulien/.cache/huggingface/datasets/imdb/plain_text/1.0.0/2fdd8b9bcadd6e7055e742a706876ba43f19faee861df134affd7a3f60fc38a1)\n",
      "Reusing dataset imdb (/Users/alexisjulien/.cache/huggingface/datasets/imdb/plain_text/1.0.0/2fdd8b9bcadd6e7055e742a706876ba43f19faee861df134affd7a3f60fc38a1)\n"
     ]
    }
   ],
   "source": [
    "from datasets import load_dataset\n",
    "train_dataset = load_dataset(\"imdb\", split=\"train\").to_pandas()\n",
    "test_dataset = load_dataset(\"imdb\", split=\"test\").to_pandas()\n"
   ],
   "metadata": {
    "collapsed": false,
    "pycharm": {
     "name": "#%%\n"
    }
   }
  },
  {
   "cell_type": "code",
   "execution_count": 70,
   "outputs": [
    {
     "data": {
      "text/plain": "                                                    text  label\n0      I love sci-fi and am willing to put up with a ...      0\n1      Worth the entertainment value of a rental, esp...      0\n2      its a totally average film with a few semi-alr...      0\n3      STAR RATING: ***** Saturday Night **** Friday ...      0\n4      First off let me say, If you haven't enjoyed a...      0\n...                                                  ...    ...\n24995  Just got around to seeing Monster Man yesterda...      1\n24996  I got this as part of a competition prize. I w...      1\n24997  I got Monster Man in a box set of three films ...      1\n24998  Five minutes in, i started to feel how naff th...      1\n24999  I caught this movie on the Sci-Fi channel rece...      1\n\n[25000 rows x 2 columns]",
      "text/html": "<div>\n<style scoped>\n    .dataframe tbody tr th:only-of-type {\n        vertical-align: middle;\n    }\n\n    .dataframe tbody tr th {\n        vertical-align: top;\n    }\n\n    .dataframe thead th {\n        text-align: right;\n    }\n</style>\n<table border=\"1\" class=\"dataframe\">\n  <thead>\n    <tr style=\"text-align: right;\">\n      <th></th>\n      <th>text</th>\n      <th>label</th>\n    </tr>\n  </thead>\n  <tbody>\n    <tr>\n      <th>0</th>\n      <td>I love sci-fi and am willing to put up with a ...</td>\n      <td>0</td>\n    </tr>\n    <tr>\n      <th>1</th>\n      <td>Worth the entertainment value of a rental, esp...</td>\n      <td>0</td>\n    </tr>\n    <tr>\n      <th>2</th>\n      <td>its a totally average film with a few semi-alr...</td>\n      <td>0</td>\n    </tr>\n    <tr>\n      <th>3</th>\n      <td>STAR RATING: ***** Saturday Night **** Friday ...</td>\n      <td>0</td>\n    </tr>\n    <tr>\n      <th>4</th>\n      <td>First off let me say, If you haven't enjoyed a...</td>\n      <td>0</td>\n    </tr>\n    <tr>\n      <th>...</th>\n      <td>...</td>\n      <td>...</td>\n    </tr>\n    <tr>\n      <th>24995</th>\n      <td>Just got around to seeing Monster Man yesterda...</td>\n      <td>1</td>\n    </tr>\n    <tr>\n      <th>24996</th>\n      <td>I got this as part of a competition prize. I w...</td>\n      <td>1</td>\n    </tr>\n    <tr>\n      <th>24997</th>\n      <td>I got Monster Man in a box set of three films ...</td>\n      <td>1</td>\n    </tr>\n    <tr>\n      <th>24998</th>\n      <td>Five minutes in, i started to feel how naff th...</td>\n      <td>1</td>\n    </tr>\n    <tr>\n      <th>24999</th>\n      <td>I caught this movie on the Sci-Fi channel rece...</td>\n      <td>1</td>\n    </tr>\n  </tbody>\n</table>\n<p>25000 rows × 2 columns</p>\n</div>"
     },
     "execution_count": 70,
     "metadata": {},
     "output_type": "execute_result"
    }
   ],
   "source": [
    "test_dataset"
   ],
   "metadata": {
    "collapsed": false,
    "pycharm": {
     "name": "#%%\n"
    }
   }
  },
  {
   "cell_type": "code",
   "execution_count": 71,
   "outputs": [
    {
     "data": {
      "text/plain": "text     12500\nlabel    12500\ndtype: int64"
     },
     "execution_count": 71,
     "metadata": {},
     "output_type": "execute_result"
    }
   ],
   "source": [
    "test_dataset[test_dataset['label'] == 0].count()"
   ],
   "metadata": {
    "collapsed": false,
    "pycharm": {
     "name": "#%%\n"
    }
   }
  },
  {
   "cell_type": "code",
   "execution_count": 72,
   "outputs": [
    {
     "data": {
      "text/plain": "text     12500\nlabel    12500\ndtype: int64"
     },
     "execution_count": 72,
     "metadata": {},
     "output_type": "execute_result"
    }
   ],
   "source": [
    "train_dataset[train_dataset['label'] == 0].count()"
   ],
   "metadata": {
    "collapsed": false,
    "pycharm": {
     "name": "#%%\n"
    }
   }
  },
  {
   "cell_type": "code",
   "execution_count": 73,
   "outputs": [
    {
     "data": {
      "text/plain": "                                                    text  label\n0      i love sci-fi and am willing to put up with a ...      0\n1      worth the entertainment value of a rental, esp...      0\n2      its a totally average film with a few semi-alr...      0\n3      star rating: ***** saturday night **** friday ...      0\n4      first off let me say, if you haven't enjoyed a...      0\n...                                                  ...    ...\n24995  just got around to seeing monster man yesterda...      1\n24996  i got this as part of a competition prize. i w...      1\n24997  i got monster man in a box set of three films ...      1\n24998  five minutes in, i started to feel how naff th...      1\n24999  i caught this movie on the sci-fi channel rece...      1\n\n[25000 rows x 2 columns]",
      "text/html": "<div>\n<style scoped>\n    .dataframe tbody tr th:only-of-type {\n        vertical-align: middle;\n    }\n\n    .dataframe tbody tr th {\n        vertical-align: top;\n    }\n\n    .dataframe thead th {\n        text-align: right;\n    }\n</style>\n<table border=\"1\" class=\"dataframe\">\n  <thead>\n    <tr style=\"text-align: right;\">\n      <th></th>\n      <th>text</th>\n      <th>label</th>\n    </tr>\n  </thead>\n  <tbody>\n    <tr>\n      <th>0</th>\n      <td>i love sci-fi and am willing to put up with a ...</td>\n      <td>0</td>\n    </tr>\n    <tr>\n      <th>1</th>\n      <td>worth the entertainment value of a rental, esp...</td>\n      <td>0</td>\n    </tr>\n    <tr>\n      <th>2</th>\n      <td>its a totally average film with a few semi-alr...</td>\n      <td>0</td>\n    </tr>\n    <tr>\n      <th>3</th>\n      <td>star rating: ***** saturday night **** friday ...</td>\n      <td>0</td>\n    </tr>\n    <tr>\n      <th>4</th>\n      <td>first off let me say, if you haven't enjoyed a...</td>\n      <td>0</td>\n    </tr>\n    <tr>\n      <th>...</th>\n      <td>...</td>\n      <td>...</td>\n    </tr>\n    <tr>\n      <th>24995</th>\n      <td>just got around to seeing monster man yesterda...</td>\n      <td>1</td>\n    </tr>\n    <tr>\n      <th>24996</th>\n      <td>i got this as part of a competition prize. i w...</td>\n      <td>1</td>\n    </tr>\n    <tr>\n      <th>24997</th>\n      <td>i got monster man in a box set of three films ...</td>\n      <td>1</td>\n    </tr>\n    <tr>\n      <th>24998</th>\n      <td>five minutes in, i started to feel how naff th...</td>\n      <td>1</td>\n    </tr>\n    <tr>\n      <th>24999</th>\n      <td>i caught this movie on the sci-fi channel rece...</td>\n      <td>1</td>\n    </tr>\n  </tbody>\n</table>\n<p>25000 rows × 2 columns</p>\n</div>"
     },
     "execution_count": 73,
     "metadata": {},
     "output_type": "execute_result"
    }
   ],
   "source": [
    "train_dataset['text'] = train_dataset['text'].str.lower()\n",
    "test_dataset['text'] = test_dataset['text'].str.lower()\n",
    "test_dataset"
   ],
   "metadata": {
    "collapsed": false,
    "pycharm": {
     "name": "#%%\n"
    }
   }
  },
  {
   "cell_type": "code",
   "execution_count": 74,
   "outputs": [
    {
     "name": "stderr",
     "output_type": "stream",
     "text": [
      "/var/folders/np/j5wjl2kn3x94vk9x_x7_grx80000gn/T/ipykernel_93493/175751739.py:2: FutureWarning: The default value of regex will change from True to False in a future version.\n",
      "  train_dataset['text'] = train_dataset['text'].str.replace('[{}]'.format(punctuation), '')\n",
      "/var/folders/np/j5wjl2kn3x94vk9x_x7_grx80000gn/T/ipykernel_93493/175751739.py:3: FutureWarning: The default value of regex will change from True to False in a future version.\n",
      "  test_dataset['text'] = test_dataset['text'].str.replace('[{}]'.format(punctuation), '')\n"
     ]
    },
    {
     "data": {
      "text/plain": "                                                    text  label\n0      i love scifi and am willing to put up with a l...      0\n1      worth the entertainment value of a rental espe...      0\n2      its a totally average film with a few semialri...      0\n3      star rating  saturday night  friday night  fri...      0\n4      first off let me say if you havent enjoyed a v...      0\n...                                                  ...    ...\n24995  just got around to seeing monster man yesterda...      1\n24996  i got this as part of a competition prize i wa...      1\n24997  i got monster man in a box set of three films ...      1\n24998  five minutes in i started to feel how naff thi...      1\n24999  i caught this movie on the scifi channel recen...      1\n\n[25000 rows x 2 columns]",
      "text/html": "<div>\n<style scoped>\n    .dataframe tbody tr th:only-of-type {\n        vertical-align: middle;\n    }\n\n    .dataframe tbody tr th {\n        vertical-align: top;\n    }\n\n    .dataframe thead th {\n        text-align: right;\n    }\n</style>\n<table border=\"1\" class=\"dataframe\">\n  <thead>\n    <tr style=\"text-align: right;\">\n      <th></th>\n      <th>text</th>\n      <th>label</th>\n    </tr>\n  </thead>\n  <tbody>\n    <tr>\n      <th>0</th>\n      <td>i love scifi and am willing to put up with a l...</td>\n      <td>0</td>\n    </tr>\n    <tr>\n      <th>1</th>\n      <td>worth the entertainment value of a rental espe...</td>\n      <td>0</td>\n    </tr>\n    <tr>\n      <th>2</th>\n      <td>its a totally average film with a few semialri...</td>\n      <td>0</td>\n    </tr>\n    <tr>\n      <th>3</th>\n      <td>star rating  saturday night  friday night  fri...</td>\n      <td>0</td>\n    </tr>\n    <tr>\n      <th>4</th>\n      <td>first off let me say if you havent enjoyed a v...</td>\n      <td>0</td>\n    </tr>\n    <tr>\n      <th>...</th>\n      <td>...</td>\n      <td>...</td>\n    </tr>\n    <tr>\n      <th>24995</th>\n      <td>just got around to seeing monster man yesterda...</td>\n      <td>1</td>\n    </tr>\n    <tr>\n      <th>24996</th>\n      <td>i got this as part of a competition prize i wa...</td>\n      <td>1</td>\n    </tr>\n    <tr>\n      <th>24997</th>\n      <td>i got monster man in a box set of three films ...</td>\n      <td>1</td>\n    </tr>\n    <tr>\n      <th>24998</th>\n      <td>five minutes in i started to feel how naff thi...</td>\n      <td>1</td>\n    </tr>\n    <tr>\n      <th>24999</th>\n      <td>i caught this movie on the scifi channel recen...</td>\n      <td>1</td>\n    </tr>\n  </tbody>\n</table>\n<p>25000 rows × 2 columns</p>\n</div>"
     },
     "execution_count": 74,
     "metadata": {},
     "output_type": "execute_result"
    }
   ],
   "source": [
    "from string import punctuation\n",
    "train_dataset['text'] = train_dataset['text'].str.replace('[{}]'.format(punctuation), '')\n",
    "test_dataset['text'] = test_dataset['text'].str.replace('[{}]'.format(punctuation), '')\n",
    "test_dataset"
   ],
   "metadata": {
    "collapsed": false,
    "pycharm": {
     "name": "#%%\n"
    }
   }
  }
 ],
 "metadata": {
  "kernelspec": {
   "name": "python3",
   "language": "python",
   "display_name": "Python 3 (ipykernel)"
  },
  "language_info": {
   "codemirror_mode": {
    "name": "ipython",
    "version": 2
   },
   "file_extension": ".py",
   "mimetype": "text/x-python",
   "name": "python",
   "nbconvert_exporter": "python",
   "pygments_lexer": "ipython2",
   "version": "2.7.6"
  }
 },
 "nbformat": 4,
 "nbformat_minor": 0
}