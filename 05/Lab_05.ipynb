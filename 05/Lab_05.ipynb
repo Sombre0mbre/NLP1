{
  "nbformat": 4,
  "nbformat_minor": 0,
  "metadata": {
    "colab": {
      "provenance": []
    },
    "kernelspec": {
      "name": "python3",
      "display_name": "Python 3"
    },
    "language_info": {
      "name": "python"
    },
    "accelerator": "GPU",
    "gpuClass": "standard"
  },
  "cells": [
    {
      "cell_type": "markdown",
      "source": [
        "#LANGUAGE TRANSLATION WITH NN.TRANSFORMER AND TORCHTEXT\n",
        "### LAB05 NLP2 EPITA SCIA 2022\n",
        "### Alexis JULIEN, Corention PION, Matthieu SCHLIENGER, Romain CAZIN\n",
        "\n",
        "This tutorial shows:\n",
        "\n",
        "How to train a translation model from scratch using Transformer.\n",
        "\n",
        "Use tochtext library to access Multi30k dataset to train a German to English translation model."
      ],
      "metadata": {
        "id": "eAqqgqsGOTVq"
      }
    },
    {
      "cell_type": "code",
      "execution_count": null,
      "metadata": {
        "id": "Opz67tAPOMSG"
      },
      "outputs": [],
      "source": [
        "!pip install spacy sacrebleu torchdata -U\n",
        "!python -m spacy download en_core_web_sm\n",
        "!python -m spacy download de_core_news_sm"
      ]
    },
    {
      "cell_type": "code",
      "source": [
        "!pip install -U torchtext"
      ],
      "metadata": {
        "id": "hUSKvItHOSav"
      },
      "execution_count": null,
      "outputs": []
    },
    {
      "cell_type": "code",
      "source": [
        "from torchtext.data.utils import get_tokenizer\n",
        "from torchtext.vocab import build_vocab_from_iterator\n",
        "from torchtext.datasets import multi30k, Multi30k\n",
        "from typing import Iterable, List"
      ],
      "metadata": {
        "id": "BUyjD__DP2J9"
      },
      "execution_count": 33,
      "outputs": []
    },
    {
      "cell_type": "markdown",
      "source": [
        "#Data Sourcing and Processing"
      ],
      "metadata": {
        "id": "swgjWo2vTWWA"
      }
    },
    {
      "cell_type": "markdown",
      "source": [
        "torchtext library has utilities for creating datasets that can be easily iterated through for the purposes of creating a language translation model. In this example, we show how to use torchtext’s inbuilt datasets, tokenize a raw text sentence, build vocabulary, and numericalize tokens into tensor. We will use Multi30k dataset from torchtext library that yields a pair of source-target raw sentences."
      ],
      "metadata": {
        "id": "fYpZzcvqTurm"
      }
    },
    {
      "cell_type": "code",
      "source": [
        "# We need to modify the URLs for the dataset since the links to the original dataset are broken\n",
        "# Refer to https://github.com/pytorch/text/issues/1756#issuecomment-1163664163 for more info\n",
        "multi30k.URL[\"train\"] = \"https://raw.githubusercontent.com/neychev/small_DL_repo/master/datasets/Multi30k/training.tar.gz\"\n",
        "multi30k.URL[\"valid\"] = \"https://raw.githubusercontent.com/neychev/small_DL_repo/master/datasets/Multi30k/validation.tar.gz\"\n",
        "\n",
        "SRC_LANGUAGE = 'de'\n",
        "TGT_LANGUAGE = 'en'\n",
        "\n",
        "# Place-holders\n",
        "token_transform = {}\n",
        "vocab_transform = {}"
      ],
      "metadata": {
        "id": "ZXl3_NqCQg7u"
      },
      "execution_count": 34,
      "outputs": []
    },
    {
      "cell_type": "code",
      "source": [
        "# Create source and target language tokenizer\n",
        "token_transform[SRC_LANGUAGE] = get_tokenizer('spacy', language='de_core_news_sm')\n",
        "token_transform[TGT_LANGUAGE] = get_tokenizer('spacy', language='en_core_web_sm')"
      ],
      "metadata": {
        "id": "vRVGHhBYR8-6"
      },
      "execution_count": 35,
      "outputs": []
    },
    {
      "cell_type": "code",
      "source": [
        "# helper function to yield list of tokens\n",
        "def yield_tokens(data_iter: Iterable, language: str) -> List[str]:\n",
        "    language_index = {SRC_LANGUAGE: 0, TGT_LANGUAGE: 1}\n",
        "\n",
        "    for data_sample in data_iter:\n",
        "        yield token_transform[language](data_sample[language_index[language]])\n",
        "\n",
        "# Define special symbols and indices\n",
        "UNK_IDX, PAD_IDX, BOS_IDX, EOS_IDX = 0, 1, 2, 3\n",
        "# Make sure the tokens are in order of their indices to properly insert them in vocab\n",
        "special_symbols = ['<unk>', '<pad>', '<bos>', '<eos>']"
      ],
      "metadata": {
        "id": "kY6CqCEPShd_"
      },
      "execution_count": 36,
      "outputs": []
    },
    {
      "cell_type": "code",
      "source": [
        "for ln in [SRC_LANGUAGE, TGT_LANGUAGE]:\n",
        "    # Training data Iterator\n",
        "    train_iter = Multi30k(split='train', language_pair=(SRC_LANGUAGE, TGT_LANGUAGE))\n",
        "    # Create torchtext's Vocab object\n",
        "    vocab_transform[ln] = build_vocab_from_iterator(yield_tokens(train_iter, ln),\n",
        "                                                    min_freq=1,\n",
        "                                                    specials=special_symbols,\n",
        "                                                    special_first=True)\n",
        "\n",
        "# Set UNK_IDX as the default index. This index is returned when the token is not found.\n",
        "# If not set, it throws RuntimeError when the queried token is not found in the Vocabulary.\n",
        "for ln in [SRC_LANGUAGE, TGT_LANGUAGE]:\n",
        "  vocab_transform[ln].set_default_index(UNK_IDX)"
      ],
      "metadata": {
        "id": "Nn0lzpJ_SpuR"
      },
      "execution_count": 37,
      "outputs": []
    },
    {
      "cell_type": "markdown",
      "source": [
        "#Seq2Seq Network using Transformer"
      ],
      "metadata": {
        "id": "vfmGwH42TcJC"
      }
    },
    {
      "cell_type": "markdown",
      "source": [
        "Transformer is a Seq2Seq model introduced in “Attention is all you need” paper for solving machine translation tasks. Below, we will create a Seq2Seq network that uses Transformer. The network consists of three parts. \n",
        "\n",
        "First part is the embedding layer. This layer converts tensor of input indices into corresponding tensor of input embeddings. These embedding are further augmented with positional encodings to provide position information of input tokens to the model. \n",
        "\n",
        "The second part is the actual Transformer model. \n",
        "\n",
        "Finally, the output of Transformer model is passed through linear layer that give un-normalized probabilities for each token in the target language."
      ],
      "metadata": {
        "id": "vvj9ye5QTwOf"
      }
    },
    {
      "cell_type": "code",
      "source": [
        "from torch import Tensor\n",
        "import torch\n",
        "import torch.nn as nn\n",
        "from torch.nn import Transformer\n",
        "import math\n",
        "DEVICE = torch.device('cuda' if torch.cuda.is_available() else 'cpu')"
      ],
      "metadata": {
        "id": "PS5sXCuqTIHJ"
      },
      "execution_count": 38,
      "outputs": []
    },
    {
      "cell_type": "code",
      "source": [
        "# helper Module that adds positional encoding to the token embedding to introduce a notion of word order.\n",
        "class PositionalEncoding(nn.Module):\n",
        "    def __init__(self,\n",
        "                 emb_size: int,\n",
        "                 dropout: float,\n",
        "                 maxlen: int = 5000):\n",
        "        super(PositionalEncoding, self).__init__()\n",
        "        den = torch.exp(- torch.arange(0, emb_size, 2)* math.log(10000) / emb_size)\n",
        "        pos = torch.arange(0, maxlen).reshape(maxlen, 1)\n",
        "        pos_embedding = torch.zeros((maxlen, emb_size))\n",
        "        pos_embedding[:, 0::2] = torch.sin(pos * den)\n",
        "        pos_embedding[:, 1::2] = torch.cos(pos * den)\n",
        "        pos_embedding = pos_embedding.unsqueeze(-2)\n",
        "\n",
        "        self.dropout = nn.Dropout(dropout)\n",
        "        self.register_buffer('pos_embedding', pos_embedding)\n",
        "\n",
        "    def forward(self, token_embedding: Tensor) -> float:\n",
        "        return self.dropout(token_embedding + self.pos_embedding[:token_embedding.size(0), :])\n"
      ],
      "metadata": {
        "id": "0fumkRbjUHJ8"
      },
      "execution_count": 39,
      "outputs": []
    },
    {
      "cell_type": "code",
      "source": [
        "# helper Module to convert tensor of input indices into corresponding tensor of token embeddings\n",
        "class TokenEmbedding(nn.Module):\n",
        "    def __init__(self, vocab_size: int, emb_size):\n",
        "        super(TokenEmbedding, self).__init__()\n",
        "        self.embedding = nn.Embedding(vocab_size, emb_size)\n",
        "        self.emb_size = emb_size\n",
        "\n",
        "    def forward(self, tokens: Tensor) -> nn.Embedding:\n",
        "        return self.embedding(tokens.long()) * math.sqrt(self.emb_size)\n"
      ],
      "metadata": {
        "id": "Ub4eDzvFUPLc"
      },
      "execution_count": 40,
      "outputs": []
    },
    {
      "cell_type": "code",
      "source": [
        "# Seq2Seq Network\n",
        "class Seq2SeqTransformer(nn.Module):\n",
        "    def __init__(self,\n",
        "                 num_encoder_layers: int,\n",
        "                 num_decoder_layers: int,\n",
        "                 emb_size: int,\n",
        "                 nhead: int,\n",
        "                 src_vocab_size: int,\n",
        "                 tgt_vocab_size: int,\n",
        "                 dim_feedforward: int = 512,\n",
        "                 dropout: float = 0.1):\n",
        "        super(Seq2SeqTransformer, self).__init__()\n",
        "        self.transformer = Transformer(d_model=emb_size,\n",
        "                                       nhead=nhead,\n",
        "                                       num_encoder_layers=num_encoder_layers,\n",
        "                                       num_decoder_layers=num_decoder_layers,\n",
        "                                       dim_feedforward=dim_feedforward,\n",
        "                                       dropout=dropout)\n",
        "        self.generator = nn.Linear(emb_size, tgt_vocab_size)\n",
        "        self.src_tok_emb = TokenEmbedding(src_vocab_size, emb_size)\n",
        "        self.tgt_tok_emb = TokenEmbedding(tgt_vocab_size, emb_size)\n",
        "        self.positional_encoding = PositionalEncoding(\n",
        "            emb_size, dropout=dropout)\n",
        "\n",
        "    def forward(self,\n",
        "                src: Tensor,\n",
        "                trg: Tensor,\n",
        "                src_mask: Tensor,\n",
        "                tgt_mask: Tensor,\n",
        "                src_padding_mask: Tensor,\n",
        "                tgt_padding_mask: Tensor,\n",
        "                memory_key_padding_mask: Tensor):\n",
        "        src_emb = self.positional_encoding(self.src_tok_emb(src))\n",
        "        tgt_emb = self.positional_encoding(self.tgt_tok_emb(trg))\n",
        "        outs = self.transformer(src_emb, tgt_emb, src_mask, tgt_mask, None,\n",
        "                                src_padding_mask, tgt_padding_mask, memory_key_padding_mask)\n",
        "        return self.generator(outs)\n",
        "\n",
        "    def encode(self, src: Tensor, src_mask: Tensor):\n",
        "        return self.transformer.encoder(self.positional_encoding(\n",
        "                            self.src_tok_emb(src)), src_mask)\n",
        "\n",
        "    def decode(self, tgt: Tensor, memory: Tensor, tgt_mask: Tensor):\n",
        "        return self.transformer.decoder(self.positional_encoding(\n",
        "                          self.tgt_tok_emb(tgt)), memory,\n",
        "                          tgt_mask)\n"
      ],
      "metadata": {
        "id": "Z0OwoAxEUb3P"
      },
      "execution_count": 41,
      "outputs": []
    },
    {
      "cell_type": "markdown",
      "source": [
        "During training, we need a subsequent word mask that will prevent model to look into the future words when making predictions. We will also need masks to hide source and target padding tokens. Below, let’s define a function that will take care of both."
      ],
      "metadata": {
        "id": "tyYoa2VkU3uP"
      }
    },
    {
      "cell_type": "code",
      "source": [
        "def generate_square_subsequent_mask(sz: int):\n",
        "    mask = (torch.triu(torch.ones((sz, sz), device=DEVICE)) == 1).transpose(0, 1)\n",
        "    mask = mask.float().masked_fill(mask == 0, float('-inf')).masked_fill(mask == 1, float(0.0))\n",
        "    return mask\n",
        "\n",
        "\n",
        "def create_mask(src ,tgt):\n",
        "    src_seq_len = src.shape[0]\n",
        "    tgt_seq_len = tgt.shape[0]\n",
        "\n",
        "    tgt_mask = generate_square_subsequent_mask(tgt_seq_len)\n",
        "    src_mask = torch.zeros((src_seq_len, src_seq_len),device=DEVICE).type(torch.bool)\n",
        "\n",
        "    src_padding_mask = (src == PAD_IDX).transpose(0, 1)\n",
        "    tgt_padding_mask = (tgt == PAD_IDX).transpose(0, 1)\n",
        "    return src_mask, tgt_mask, src_padding_mask, tgt_padding_mask"
      ],
      "metadata": {
        "id": "1gMXLBGZUjQh"
      },
      "execution_count": 42,
      "outputs": []
    },
    {
      "cell_type": "markdown",
      "source": [
        "Let’s now define the parameters of our model and instantiate the same. Below, we also define our loss function which is the cross-entropy loss and the optmizer used for training."
      ],
      "metadata": {
        "id": "Du45me0ZVJnC"
      }
    },
    {
      "cell_type": "code",
      "source": [
        "torch.manual_seed(0)\n",
        "\n",
        "SRC_VOCAB_SIZE = len(vocab_transform[SRC_LANGUAGE])\n",
        "TGT_VOCAB_SIZE = len(vocab_transform[TGT_LANGUAGE])\n",
        "EMB_SIZE = 512\n",
        "NHEAD = 8\n",
        "FFN_HID_DIM = 512\n",
        "BATCH_SIZE = 128\n",
        "NUM_ENCODER_LAYERS = 3\n",
        "NUM_DECODER_LAYERS = 3\n",
        "\n",
        "transformer = Seq2SeqTransformer(NUM_ENCODER_LAYERS, NUM_DECODER_LAYERS, EMB_SIZE,\n",
        "                                 NHEAD, SRC_VOCAB_SIZE, TGT_VOCAB_SIZE, FFN_HID_DIM)\n",
        "\n",
        "for p in transformer.parameters():\n",
        "    if p.dim() > 1:\n",
        "        nn.init.xavier_uniform_(p)\n",
        "\n",
        "transformer = transformer.to(DEVICE)\n",
        "\n",
        "loss_fn = torch.nn.CrossEntropyLoss(ignore_index=PAD_IDX)\n",
        "\n",
        "optimizer = torch.optim.Adam(transformer.parameters(), lr=0.0001, betas=(0.9, 0.98), eps=1e-9)"
      ],
      "metadata": {
        "id": "cXIDOJ2qVKA5"
      },
      "execution_count": 43,
      "outputs": []
    },
    {
      "cell_type": "markdown",
      "source": [
        "#Collation\n",
        "As seen in the Data Sourcing and Processing section, our data iterator yields a pair of raw strings. We need to convert these string pairs into the batched tensors that can be processed by our Seq2Seq network defined previously. Below we define our collate function that convert batch of raw strings into batch tensors that can be fed directly into our model.\n"
      ],
      "metadata": {
        "id": "R31LDIdNVm32"
      }
    },
    {
      "cell_type": "code",
      "source": [
        "from torch.nn.utils.rnn import pad_sequence\n",
        "\n",
        "# helper function to club together sequential operations\n",
        "def sequential_transforms(*transforms):\n",
        "    def func(txt_input):\n",
        "        for transform in transforms:\n",
        "            txt_input = transform(txt_input)\n",
        "        return txt_input\n",
        "    return func\n",
        "\n",
        "# function to add BOS/EOS and create tensor for input sequence indices\n",
        "def tensor_transform(token_ids: List[int]):\n",
        "    return torch.cat((torch.tensor([BOS_IDX]),\n",
        "                      torch.tensor(token_ids),\n",
        "                      torch.tensor([EOS_IDX])))\n",
        "\n",
        "# src and tgt language text transforms to convert raw strings into tensors indices\n",
        "text_transform = {}\n",
        "for ln in [SRC_LANGUAGE, TGT_LANGUAGE]:\n",
        "    text_transform[ln] = sequential_transforms(token_transform[ln], #Tokenization\n",
        "                                               vocab_transform[ln], #Numericalization\n",
        "                                               tensor_transform) # Add BOS/EOS and create tensor\n",
        "\n",
        "\n",
        "# function to collate data samples into batch tesors\n",
        "def collate_fn(batch):\n",
        "    src_batch, tgt_batch = [], []\n",
        "    for src_sample, tgt_sample in batch:\n",
        "        src_batch.append(text_transform[SRC_LANGUAGE](src_sample.rstrip(\"\\n\")))\n",
        "        tgt_batch.append(text_transform[TGT_LANGUAGE](tgt_sample.rstrip(\"\\n\")))\n",
        "\n",
        "    src_batch = pad_sequence(src_batch, padding_value=PAD_IDX)\n",
        "    tgt_batch = pad_sequence(tgt_batch, padding_value=PAD_IDX)\n",
        "    return src_batch, tgt_batch"
      ],
      "metadata": {
        "id": "nqV5W55oWBZl"
      },
      "execution_count": 44,
      "outputs": []
    },
    {
      "cell_type": "markdown",
      "source": [
        "Let’s define training and evaluation loop that will be called for each epoch."
      ],
      "metadata": {
        "id": "v2ild1doW9-K"
      }
    },
    {
      "cell_type": "code",
      "source": [
        "from torch.utils.data import DataLoader\n",
        "\n",
        "def train_epoch(model, optimizer) -> float:\n",
        "    model.train()\n",
        "    losses = 0\n",
        "    train_iter = Multi30k(split='train', language_pair=(SRC_LANGUAGE, TGT_LANGUAGE))\n",
        "    train_dataloader = DataLoader(train_iter, batch_size=BATCH_SIZE, collate_fn=collate_fn)\n",
        "\n",
        "    for src, tgt in train_dataloader:\n",
        "        src = src.to(DEVICE)\n",
        "        tgt = tgt.to(DEVICE)\n",
        "\n",
        "        tgt_input = tgt[:-1, :]\n",
        "\n",
        "        src_mask, tgt_mask, src_padding_mask, tgt_padding_mask = create_mask(src, tgt_input)\n",
        "\n",
        "        logits = model(src, tgt_input, src_mask, tgt_mask,src_padding_mask, tgt_padding_mask, src_padding_mask)\n",
        "\n",
        "        optimizer.zero_grad()\n",
        "\n",
        "        tgt_out = tgt[1:, :]\n",
        "        loss = loss_fn(logits.reshape(-1, logits.shape[-1]), tgt_out.reshape(-1))\n",
        "        loss.backward()\n",
        "\n",
        "        optimizer.step()\n",
        "        losses += loss.item()\n",
        "\n",
        "    return losses / len(list(train_dataloader))\n",
        "\n",
        "\n",
        "def evaluate(model):\n",
        "    model.eval()\n",
        "    losses = 0\n",
        "\n",
        "    val_iter = Multi30k(split='valid', language_pair=(SRC_LANGUAGE, TGT_LANGUAGE))\n",
        "    val_dataloader = DataLoader(val_iter, batch_size=BATCH_SIZE, collate_fn=collate_fn)\n",
        "\n",
        "    for src, tgt in val_dataloader:\n",
        "        src = src.to(DEVICE)\n",
        "        tgt = tgt.to(DEVICE)\n",
        "\n",
        "        tgt_input = tgt[:-1, :]\n",
        "\n",
        "        src_mask, tgt_mask, src_padding_mask, tgt_padding_mask = create_mask(src, tgt_input)\n",
        "\n",
        "        logits = model(src, tgt_input, src_mask, tgt_mask,src_padding_mask, tgt_padding_mask, src_padding_mask)\n",
        "\n",
        "        tgt_out = tgt[1:, :]\n",
        "        loss = loss_fn(logits.reshape(-1, logits.shape[-1]), tgt_out.reshape(-1))\n",
        "        losses += loss.item()\n",
        "\n",
        "    return losses / len(list(val_dataloader))\n"
      ],
      "metadata": {
        "id": "nrWlvrsSWs_K"
      },
      "execution_count": 45,
      "outputs": []
    },
    {
      "cell_type": "markdown",
      "source": [
        "Now we have all the ingredients to train our model."
      ],
      "metadata": {
        "id": "1uz5tw7HXFGT"
      }
    },
    {
      "cell_type": "code",
      "source": [
        "from timeit import default_timer as timer\n",
        "NUM_EPOCHS = 20\n",
        "\n",
        "for epoch in range(1, NUM_EPOCHS+1):\n",
        "    start_time = timer()\n",
        "    train_loss = train_epoch(transformer, optimizer)\n",
        "    end_time = timer()\n",
        "    val_loss = evaluate(transformer)\n",
        "    print((f\"Epoch: {epoch}, Train loss: {train_loss:.3f}, Val loss: {val_loss:.3f}, \"f\"Epoch time = {(end_time - start_time):.3f}s\"))"
      ],
      "metadata": {
        "id": "mMwhypU1XCCF",
        "colab": {
          "base_uri": "https://localhost:8080/"
        },
        "outputId": "1ada3892-5432-4364-d144-ab1a484a1484"
      },
      "execution_count": 46,
      "outputs": [
        {
          "output_type": "stream",
          "name": "stdout",
          "text": [
            "Epoch: 1, Train loss: 5.344, Val loss: 4.114, Epoch time = 43.745s\n",
            "Epoch: 2, Train loss: 3.761, Val loss: 3.320, Epoch time = 41.887s\n",
            "Epoch: 3, Train loss: 3.162, Val loss: 2.895, Epoch time = 41.559s\n",
            "Epoch: 4, Train loss: 2.768, Val loss: 2.639, Epoch time = 44.062s\n",
            "Epoch: 5, Train loss: 2.481, Val loss: 2.441, Epoch time = 47.242s\n",
            "Epoch: 6, Train loss: 2.250, Val loss: 2.317, Epoch time = 47.684s\n",
            "Epoch: 7, Train loss: 2.060, Val loss: 2.202, Epoch time = 43.480s\n",
            "Epoch: 8, Train loss: 1.897, Val loss: 2.113, Epoch time = 46.151s\n",
            "Epoch: 9, Train loss: 1.755, Val loss: 2.062, Epoch time = 46.858s\n",
            "Epoch: 10, Train loss: 1.631, Val loss: 2.004, Epoch time = 46.271s\n",
            "Epoch: 11, Train loss: 1.524, Val loss: 1.973, Epoch time = 45.537s\n",
            "Epoch: 12, Train loss: 1.419, Val loss: 1.941, Epoch time = 46.557s\n",
            "Epoch: 13, Train loss: 1.333, Val loss: 1.968, Epoch time = 44.356s\n",
            "Epoch: 14, Train loss: 1.252, Val loss: 1.943, Epoch time = 46.114s\n",
            "Epoch: 15, Train loss: 1.173, Val loss: 1.932, Epoch time = 46.232s\n",
            "Epoch: 16, Train loss: 1.103, Val loss: 1.923, Epoch time = 43.727s\n",
            "Epoch: 17, Train loss: 1.039, Val loss: 1.904, Epoch time = 43.118s\n",
            "Epoch: 18, Train loss: 0.980, Val loss: 1.913, Epoch time = 45.231s\n",
            "Epoch: 19, Train loss: 0.921, Val loss: 1.920, Epoch time = 47.679s\n",
            "Epoch: 20, Train loss: 0.866, Val loss: 1.937, Epoch time = 46.025s\n"
          ]
        }
      ]
    },
    {
      "cell_type": "code",
      "source": [
        "# function to generate output sequence using greedy algorithm\n",
        "def greedy_decode(model, src, src_mask, max_len, start_symbol):\n",
        "    \"\"\"\n",
        "        Return a translated sentence in form of a tensor using the greedy decoding approach.\n",
        "\n",
        "        Parameters\n",
        "        ----------\n",
        "        model: torch model trained\n",
        "        src: Tensor containing the sentence to be translated\n",
        "        src_mask: Tensor\n",
        "        max_len: int number of words we want in our translation\n",
        "        start_symbol: int the first symbol in our sentence\n",
        "\n",
        "        Returns\n",
        "        -------\n",
        "        outputs : Tensor filled with words indexes\n",
        "    \"\"\"\n",
        "    src = src.to(DEVICE)\n",
        "    src_mask = src_mask.to(DEVICE)\n",
        "\n",
        "    memory = model.encode(src, src_mask)\n",
        "    ys = torch.ones(1, 1).fill_(start_symbol).type(torch.long).to(DEVICE)\n",
        "    for i in range(max_len-1):\n",
        "        memory = memory.to(DEVICE)\n",
        "        tgt_mask = (generate_square_subsequent_mask(ys.size(0))\n",
        "                    .type(torch.bool)).to(DEVICE)\n",
        "        out = model.decode(ys, memory, tgt_mask)\n",
        "        out = out.transpose(0, 1)  #Tensor de la taille de la phrase , la taille grandit au fur et a mesure\n",
        "        prob = model.generator(out[:, -1])\n",
        "        _, next_word = torch.max(prob, dim=1)\n",
        "        next_word = next_word.item()\n",
        "        ys = torch.cat([ys,\n",
        "                        torch.ones(1, 1).type_as(src.data).fill_(next_word)], dim=0)\n",
        "        if next_word == EOS_IDX:\n",
        "            break\n",
        "    return ys"
      ],
      "metadata": {
        "id": "S4pJA9tflyUz"
      },
      "execution_count": 69,
      "outputs": []
    },
    {
      "cell_type": "code",
      "source": [
        "import random\n",
        "def topK_sampling_decode(model, src, src_mask, max_len, start_symbol, k):\n",
        "    \"\"\"\n",
        "        Return a translated sentence in form of a tensor using the decoding topKSampling approach.\n",
        "\n",
        "        Parameters\n",
        "        ----------\n",
        "        model: torch model trained\n",
        "        src: Tensor containing the sentence to be translated\n",
        "        src_mask: Tensor\n",
        "        max_len: int number of words we want in our translation\n",
        "        start_symbol: int the first symbol in our sentence\n",
        "        k: int number of words we keep in the topk sampling\n",
        "\n",
        "        Returns\n",
        "        -------\n",
        "        outputs : Tensor filled with words indexes\n",
        "    \"\"\"\n",
        "    src = src.to(DEVICE)\n",
        "    src_mask = src_mask.to(DEVICE)\n",
        "\n",
        "    memory = model.encode(src, src_mask)\n",
        "    ys = torch.ones(1, 1).fill_(start_symbol).type(torch.long).to(DEVICE)\n",
        "    for i in range(max_len-1):\n",
        "        memory = memory.to(DEVICE)\n",
        "        tgt_mask = (generate_square_subsequent_mask(ys.size(0))\n",
        "                    .type(torch.bool)).to(DEVICE)\n",
        "        out = model.decode(ys, memory, tgt_mask)\n",
        "        out = out.transpose(0, 1)  #Tensor de la taille de la phrase , la taille grandit au fur et a mesure\n",
        "        prob = model.generator(out[:, -1])\n",
        "        \n",
        "        \n",
        "        values_potential_next_words , indices_potential_next_words = torch.topk(prob, k)\n",
        "        \n",
        "        soft_max = torch.nn.functional.softmax(values_potential_next_words, dim=0)\n",
        "        next_word = random.choices(indices_potential_next_words[0].tolist(), soft_max[0].tolist())[0]\n",
        "      \n",
        "        ys = torch.cat([ys,\n",
        "                        torch.ones(1, 1).type_as(src.data).fill_(next_word)], dim=0)\n",
        "        if next_word == EOS_IDX:\n",
        "            break\n",
        "    return ys"
      ],
      "metadata": {
        "id": "_pgqU9M0iYU9"
      },
      "execution_count": 58,
      "outputs": []
    },
    {
      "cell_type": "code",
      "source": [
        "def topK_sampling_temperature_decode(model, src, src_mask, max_len, start_symbol, k, temperature):\n",
        "    \"\"\"\n",
        "        Return a translated sentence in form of a tensor using the decoding topKSampling with Temperature appraoch.\n",
        "\n",
        "        Parameters\n",
        "        ----------\n",
        "        model: torch model trained\n",
        "        src: Tensor containing the sentence to be translated\n",
        "        src_mask: Tensor\n",
        "        max_len: int number of words we want in our translation\n",
        "        start_symbol: int the first symbol in our sentence\n",
        "        k: int number of words we keep in the top ksampling\n",
        "        temperature: float used to shade our probability space\n",
        "\n",
        "        Returns\n",
        "        -------\n",
        "        outputs : Tensor filled with words indexes\n",
        "    \"\"\"\n",
        "    assert 0 < temperature <= 1\n",
        "    src = src.to(DEVICE)\n",
        "    src_mask = src_mask.to(DEVICE)\n",
        "\n",
        "    memory = model.encode(src, src_mask)\n",
        "    ys = torch.ones(1, 1).fill_(start_symbol).type(torch.long).to(DEVICE)\n",
        "    for i in range(max_len-1):\n",
        "        memory = memory.to(DEVICE)\n",
        "        tgt_mask = (generate_square_subsequent_mask(ys.size(0))\n",
        "                    .type(torch.bool)).to(DEVICE)\n",
        "        out = model.decode(ys, memory, tgt_mask)\n",
        "        out = out.transpose(0, 1)  #Tensor de la taille de la phrase , la taille grandit au fur et a mesure\n",
        "        prob = model.generator(out[:, -1])\n",
        "        \n",
        "        \n",
        "        values_potential_next_words , indices_potential_next_words = torch.topk(prob, k)\n",
        "        soft_max = torch.nn.functional.softmax(values_potential_next_words / temperature)\n",
        "        next_word = random.choices(indices_potential_next_words[0].tolist(), soft_max[0].tolist())[0]\n",
        "      \n",
        "        ys = torch.cat([ys,\n",
        "                        torch.ones(1, 1).type_as(src.data).fill_(next_word)], dim=0)\n",
        "        if next_word == EOS_IDX:\n",
        "            break\n",
        "    return ys\n",
        "    "
      ],
      "metadata": {
        "id": "-SbW_GCWmMId"
      },
      "execution_count": 59,
      "outputs": []
    },
    {
      "cell_type": "markdown",
      "source": [
        "TO DO for beamsearch\n",
        "\n",
        "same arguments as greedy_decode BUT we add :\n",
        "beam_depth_search : int  -> represents for how long we want to search the most optimals sequences of words\n",
        "k : int -> represents for each steps how many best probabilites we want to keep.\n",
        "\n",
        "\n",
        "pseudo-code :\n",
        "\n",
        "-for every steps get the k most likely next words.\n",
        "\n",
        "-for each of thoose words we look again for the k most likely next words\n",
        "\n",
        "-we repeat this until we reach the beam_depth_search.\n",
        "\n",
        "-we mesure the probability of each combinations of words with : |log(p1)xlog(p2)x...xlog(p_beam_search_depth)|\n",
        "\n",
        "-we select the highest one\n",
        "\n",
        "-and we use them as next words"
      ],
      "metadata": {
        "id": "cYv7f4kwlnNl"
      }
    },
    {
      "cell_type": "code",
      "source": [
        "#actual function to translate input sentence into target language with the GREEDY DECODE approach\n",
        "def translate_greedy_decode(model: torch.nn.Module, src_sentence: str):\n",
        "    \"\"\"\n",
        "        Returns a translated sentence using the greedy decoding approach\n",
        "        Parameters\n",
        "        ----------\n",
        "        model: torch model trained\n",
        "        src_sentence: Tensor containing the sentence to be translated\n",
        "        \n",
        "        Returns\n",
        "        -------\n",
        "        outputs : str the src_sentence translated by with the model and decoding with topKSampling with temperature \n",
        "    \"\"\"\n",
        "    model.eval()\n",
        "    src = text_transform[SRC_LANGUAGE](src_sentence).view(-1, 1)\n",
        "    num_tokens = src.shape[0]\n",
        "    src_mask = (torch.zeros(num_tokens, num_tokens)).type(torch.bool)\n",
        "    tgt_tokens = greedy_decode(model,  src, src_mask, max_len=num_tokens + 5, start_symbol=BOS_IDX).flatten()\n",
        "    \n",
        "    return \" \".join(vocab_transform[TGT_LANGUAGE].lookup_tokens(list(tgt_tokens.cpu().numpy()))).replace(\"<bos>\", \"\").replace(\"<eos>\", \"\")"
      ],
      "metadata": {
        "id": "kI7ED5RpjXnE"
      },
      "execution_count": 125,
      "outputs": []
    },
    {
      "cell_type": "code",
      "source": [
        "#actual function to translate input sentence into target language with the TOPK SAMPLING approach\n",
        "def translate_topk_sampling_decode(model: torch.nn.Module, src_sentence: str, k: int):\n",
        "    \"\"\"\n",
        "        Returns a translated sentence using the topk_sampling decoding approach\n",
        "        Parameters\n",
        "        ----------\n",
        "        model: torch model trained\n",
        "        src_sentence: Tensor containing the sentence to be translated\n",
        "        k: int number of words we keep for the topKSampling\n",
        "        \n",
        "\n",
        "\n",
        "        Returns\n",
        "        -------\n",
        "        outputs : str the src_sentence translated by with the model and decoding with topKSampling with temperature \n",
        "    \"\"\"\n",
        "    model.eval()\n",
        "    src = text_transform[SRC_LANGUAGE](src_sentence).view(-1, 1)\n",
        "    num_tokens = src.shape[0]\n",
        "    src_mask = (torch.zeros(num_tokens, num_tokens)).type(torch.bool)\n",
        "    tgt_tokens = topK_sampling_decode(model,  src, src_mask, max_len=num_tokens + 5, start_symbol=BOS_IDX, k =3).flatten()\n",
        "    \n",
        "    return \" \".join(vocab_transform[TGT_LANGUAGE].lookup_tokens(list(tgt_tokens.cpu().numpy()))).replace(\"<bos>\", \"\").replace(\"<eos>\", \"\")"
      ],
      "metadata": {
        "id": "qEp8nvxhjiM3"
      },
      "execution_count": 126,
      "outputs": []
    },
    {
      "cell_type": "code",
      "source": [
        "#actual function to translate input sentence into target language with the TOPK SAMPLING WITH TEMPERATURE approach\n",
        "def translate_topk_sampling_temperature_decode(model: torch.nn.Module, src_sentence: str, k :int, temperature : float):\n",
        "    \"\"\"\n",
        "        Returns a translated sentence using the topk_sampling with temperature decoding approach\n",
        "        Parameters\n",
        "        ----------\n",
        "        model: torch model trained\n",
        "        src_sentence: Tensor containing the sentence to be translated\n",
        "        k: int number of words we keep for the topKSampling\n",
        "        temperature: float used to shade our probability space\n",
        "\n",
        "\n",
        "        Returns\n",
        "        -------\n",
        "        outputs : str the src_sentence translated by with the model and decoding with topKSampling with temperature \n",
        "    \"\"\"\n",
        "    model.eval()\n",
        "    src = text_transform[SRC_LANGUAGE](src_sentence).view(-1, 1)\n",
        "    num_tokens = src.shape[0]\n",
        "    src_mask = (torch.zeros(num_tokens, num_tokens)).type(torch.bool)\n",
        "    tgt_tokens = topK_sampling_temperature_decode(model,  src, src_mask, max_len=num_tokens + 5, start_symbol=BOS_IDX, k = 3, temperature = 0.8).flatten()\n",
        "    \n",
        "    return \" \".join(vocab_transform[TGT_LANGUAGE].lookup_tokens(list(tgt_tokens.cpu().numpy()))).replace(\"<bos>\", \"\").replace(\"<eos>\", \"\")"
      ],
      "metadata": {
        "id": "OJWY9RJgjxbu"
      },
      "execution_count": 127,
      "outputs": []
    },
    {
      "cell_type": "code",
      "source": [
        "print(translate_greedy_decode(transformer, \"Eine Gruppe von Menschen steht vor einem Iglu .\")) #Un groupe de personne est debout devant un igloo"
      ],
      "metadata": {
        "colab": {
          "base_uri": "https://localhost:8080/"
        },
        "id": "8ErVEpdbplZe",
        "outputId": "c09c1457-00d8-4c7d-8294-8b2d6f5cffc6"
      },
      "execution_count": 84,
      "outputs": [
        {
          "output_type": "stream",
          "name": "stdout",
          "text": [
            " A group of people stand in front of an olive office . \n"
          ]
        },
        {
          "output_type": "stream",
          "name": "stderr",
          "text": [
            "/usr/local/lib/python3.7/dist-packages/ipykernel_launcher.py:18: UserWarning: Implicit dimension choice for softmax has been deprecated. Change the call to include dim=X as an argument.\n"
          ]
        }
      ]
    },
    {
      "cell_type": "markdown",
      "source": [
        "**We can see that the translation is quite good, but there is a problem for the word Igloo. It might be to specific to be correrctly understood.**"
      ],
      "metadata": {
        "id": "F6QiCR4Km3mp"
      }
    },
    {
      "cell_type": "code",
      "source": [
        "print(translate_topk_sampling_decode(transformer,\"der kleine Tiger schwimmt.\",3)) #Le petit tigre est en train de nager"
      ],
      "metadata": {
        "colab": {
          "base_uri": "https://localhost:8080/"
        },
        "id": "Z5BDxEZ2p1wJ",
        "outputId": "8abc7ea3-7ab5-4455-bfd7-f38739fe54f7"
      },
      "execution_count": 102,
      "outputs": [
        {
          "output_type": "stream",
          "name": "stdout",
          "text": [
            " Two little tiger swims \n"
          ]
        }
      ]
    },
    {
      "cell_type": "code",
      "source": [
        "print(translate_topk_sampling_decode(transformer,\"An diesem Wochenende gehen wir mit ein paar Freunden ins Kino, um einen Horrorfilm zu sehen.\", 15)) \n",
        "#This weekend we are going to the movies with some friends to see a horror movie."
      ],
      "metadata": {
        "colab": {
          "base_uri": "https://localhost:8080/"
        },
        "id": "rAJGerqFopdb",
        "outputId": "417a38da-9c4f-4b09-9868-b0264d626ceb"
      },
      "execution_count": 108,
      "outputs": [
        {
          "output_type": "stream",
          "name": "stdout",
          "text": [
            " We are very athletes are how how to see a great routine at what is seen in what 's studio \n"
          ]
        }
      ]
    },
    {
      "cell_type": "markdown",
      "source": [
        "**Here, with the topk-sampling-approach, the translation seems good aswell the only problem is the begining of the sentence.**\n",
        "\n",
        "The value of k interfers in the results, if k is to big the translations are becoming completly wrong."
      ],
      "metadata": {
        "id": "W02gTCXdnU8_"
      }
    },
    {
      "cell_type": "code",
      "source": [
        "print(translate_topk_sampling_temperature_decode(transformer,\"das Haus ist rot\", k=3 , temperature = 0.8)) #The house is red"
      ],
      "metadata": {
        "colab": {
          "base_uri": "https://localhost:8080/"
        },
        "id": "QcfTkkKrpn1i",
        "outputId": "bf65b315-48ca-4401-a2a7-faf143072c79"
      },
      "execution_count": 93,
      "outputs": [
        {
          "output_type": "stream",
          "name": "stdout",
          "text": [
            " The house is in red . \n"
          ]
        },
        {
          "output_type": "stream",
          "name": "stderr",
          "text": [
            "/usr/local/lib/python3.7/dist-packages/ipykernel_launcher.py:18: UserWarning: Implicit dimension choice for softmax has been deprecated. Change the call to include dim=X as an argument.\n"
          ]
        }
      ]
    },
    {
      "cell_type": "code",
      "source": [
        "print(translate_topk_sampling_temperature_decode(transformer,\"Hallo, ich bin ein Bäcker. Ich liebe es, mit meinen Freunden zu kochen\", k=3 , temperature = 0.1))\n",
        "# Hello, I'am a baker. I love to cook with my friends"
      ],
      "metadata": {
        "colab": {
          "base_uri": "https://localhost:8080/"
        },
        "id": "059oq8yEoW0r",
        "outputId": "3727ef4f-2111-4657-91fc-f753f706fded"
      },
      "execution_count": 104,
      "outputs": [
        {
          "output_type": "stream",
          "name": "stdout",
          "text": [
            " Beautiful I I I am a Japanese I ' I ' friends , and female friends cook . \n"
          ]
        },
        {
          "output_type": "stream",
          "name": "stderr",
          "text": [
            "/usr/local/lib/python3.7/dist-packages/ipykernel_launcher.py:18: UserWarning: Implicit dimension choice for softmax has been deprecated. Change the call to include dim=X as an argument.\n"
          ]
        }
      ]
    },
    {
      "cell_type": "markdown",
      "source": [
        "**With the topk-sampling approach with tempertaure the translations is almost perfect.**\n",
        "\n",
        "The results are complelty off if we take a temperatue to low"
      ],
      "metadata": {
        "id": "enyzxDiong4p"
      }
    },
    {
      "cell_type": "markdown",
      "source": [
        "## BLUESCORE\n",
        "\n",
        "Compute the BLEU score of the model\n",
        "\n",
        "Explain what all the output values mean (when using the corpus_score function)."
      ],
      "metadata": {
        "id": "9njZtF19p0Ec"
      }
    },
    {
      "cell_type": "markdown",
      "source": [
        "The output values of the corpus_score function looks like : \n",
        "\n",
        "\"X A/B/C/D (BP = Y ratio = Z hyp_len = M ref_len = N)\"\n",
        "\n",
        "X is a float which refers to the final BLEU score of the model, it shows how well the machine's translations match human translations\n",
        "\n",
        "A/B/C/D are floats that represents the precision value for 1-4 ngram order\n",
        "\n",
        "Y is a float which represents the brevity penalty : it penalizes generated \n",
        "translations that are too short\n",
        "\n",
        "Z is a float that indicates the ratio between hypothesis length and reference length\n",
        "\n",
        "M is an int that refers to the total number of charcaters for hypothesis text\n",
        "\n",
        "N is a int that refers to the total number of charcters for reference text"
      ],
      "metadata": {
        "id": "6gjmA9vAcK56"
      }
    },
    {
      "cell_type": "markdown",
      "source": [
        "**We can see with the table belows how the BLUE score (X) is used to determine the quality of the translation**"
      ],
      "metadata": {
        "id": "wmRtAKsysSXG"
      }
    },
    {
      "cell_type": "markdown",
      "source": [
        "![image.png](data:image/png;base64,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)"
      ],
      "metadata": {
        "id": "D-7MiaaQsLj0"
      }
    },
    {
      "cell_type": "code",
      "source": [
        "from sacrebleu.metrics import BLEU\n",
        "\n",
        "#We create batches of references texts and their associated translations\n",
        "input = [\"der Horrorfilm war gut\", \"An diesem Wochenende gehen wir mit ein paar Freunden ins Kino, um einen Horrorfilm zu sehen. Ich habe ein Schokoladeneis gegessen.\", \"Hallo, ich bin ein Bäcker. Ich liebe es, mit meinen Freunden zu kochen\", \"das Haus ist rot\", \"der kleine Tiger schwimmt.\", \"Eine Gruppe von Menschen steht vor einem Iglu.\"]\n",
        "refs = [\"the horror film was good\", \"This weekend we are going to the movies with some friends to see a horror movie. I ate a chocolate ice cream\", \"Hello, I'am a baker. I love to cook with my friends\", \"The house is red\", \"The little tiger is swimming\", \"A group of people are standing in front of an igloo\"]\n"
      ],
      "metadata": {
        "id": "hiuOuiTJqLJL"
      },
      "execution_count": 119,
      "outputs": []
    },
    {
      "cell_type": "code",
      "source": [
        "##BLEU SCORE for the greedy decode\n",
        "res = []\n",
        "for elmt in input:\n",
        "  res.append(translate_greedy_decode(transformer, elmt))\n",
        "\n",
        "greedy_refs = [refs]\n",
        "\n",
        "bleu = BLEU()\n",
        "\n",
        "bleu.corpus_score(res, greedy_refs)"
      ],
      "metadata": {
        "id": "i-h6zmAxp6Y7",
        "colab": {
          "base_uri": "https://localhost:8080/"
        },
        "outputId": "1f227e27-af4b-44e3-8702-4638964de2ff"
      },
      "execution_count": 132,
      "outputs": [
        {
          "output_type": "execute_result",
          "data": {
            "text/plain": [
              "BLEU = 15.60 41.2/18.9/11.8/6.5 (BP = 1.000 ratio = 1.311 hyp_len = 80 ref_len = 61)"
            ]
          },
          "metadata": {},
          "execution_count": 132
        }
      ]
    },
    {
      "cell_type": "markdown",
      "source": [
        "**For the greedy decode appriach we can see that we get a BLEU score of 15.60. The translations get the main ideas of the sentences but they are significantly different than the referneces. We can note that the length of the translated sentences are generally much longer than the reference sentence. It reveals that the model is creating some infromations from nowhere (which is bad for a transaltion). The 1-gram score is pretty decent for this amount of training.**"
      ],
      "metadata": {
        "id": "9GNU0Pv2sgC6"
      }
    },
    {
      "cell_type": "code",
      "source": [
        "##BLEU SCORE for the topk_samling decode\n",
        "res3 = []\n",
        "res5 = []\n",
        "res10 = []\n",
        "for elmt in input:\n",
        "  res3.append(translate_topk_sampling_decode(transformer, elmt,3))\n",
        "  res5.append(translate_topk_sampling_decode(transformer, elmt,5))\n",
        "  res10.append(translate_topk_sampling_decode(transformer, elmt,10))\n",
        "\n",
        "topk_sampling_refs = [refs]\n",
        "\n",
        "bleu = BLEU()\n",
        "\n",
        "print(f\"The BLEU score for k = 3 \\n\",bleu.corpus_score(res3, topk_sampling_refs))\n",
        "print(\"\")\n",
        "print(f\"The BLEU score for k = 5 \\n\",bleu.corpus_score(res5, topk_sampling_refs))\n",
        "print(\"\")\n",
        "print(f\"The BLEU score for k = 10 \\n\",bleu.corpus_score(res10, topk_sampling_refs))"
      ],
      "metadata": {
        "colab": {
          "base_uri": "https://localhost:8080/"
        },
        "id": "NoAPV-eeqDvK",
        "outputId": "772de863-28e4-427d-b400-3bd8a90b3dba"
      },
      "execution_count": 138,
      "outputs": [
        {
          "output_type": "stream",
          "name": "stdout",
          "text": [
            "The BLEU score for k = 3 \n",
            " BLEU = 0.89 14.5/0.6/0.4/0.2 (BP = 1.000 ratio = 1.361 hyp_len = 83 ref_len = 61)\n",
            "\n",
            "The BLEU score for k = 5 \n",
            " BLEU = 7.20 24.7/8.9/4.1/3.0 (BP = 1.000 ratio = 1.393 hyp_len = 85 ref_len = 61)\n",
            "\n",
            "The BLEU score for k = 10 \n",
            " BLEU = 3.01 23.0/3.7/1.3/0.7 (BP = 1.000 ratio = 1.426 hyp_len = 87 ref_len = 61)\n"
          ]
        }
      ]
    },
    {
      "cell_type": "markdown",
      "source": [
        "**For the topksampling approach we can see that the BLEU SCOREs are really low (under 10)  which are really bad translations. The 1-gram score isn't good, and the 2-gram falls immietiadly after. To be honest we don't really get why it is this bad when some shorts translations are working (like above for the tiger's example). We can see that we get 'best results' == 'the least worst' score when the k is set at 5**"
      ],
      "metadata": {
        "id": "APBTX_cgtQ96"
      }
    },
    {
      "cell_type": "code",
      "source": [
        "##BLEU SCORE for the topk_sampling with temperature decode\n",
        "res_2 = []\n",
        "res_5 = []\n",
        "res_8 = []\n",
        "for elmt in input:\n",
        "  res_2.append(translate_topk_sampling_temperature_decode(transformer, elmt,3,0.2))\n",
        "  res_5.append(translate_topk_sampling_temperature_decode(transformer, elmt,3,0.5))\n",
        "  res_8.append(translate_topk_sampling_temperature_decode(transformer, elmt,3,0.8))\n",
        "\n",
        "topk_sampling__temperature_refs = [refs]\n",
        "\n",
        "bleu = BLEU()\n",
        "\n",
        "print(f\"The BLEU score for k = 3 and the temperature = 0.2 \\n\",bleu.corpus_score(res_2, topk_sampling_refs))\n",
        "print(\"\")\n",
        "print(f\"The BLEU score for k = 3 and the temperature = 0.5 \\n\",bleu.corpus_score(res_5, topk_sampling_refs))\n",
        "print(\"\")\n",
        "print(f\"The BLEU score for k = 3 and the temperature = 0.8 \\n\",bleu.corpus_score(res_8, topk_sampling_refs))\n",
        "print(\"\")"
      ],
      "metadata": {
        "colab": {
          "base_uri": "https://localhost:8080/"
        },
        "id": "bUXe5ATxq_MK",
        "outputId": "b0bec899-75ae-4bb7-d447-dee37869a2dc"
      },
      "execution_count": 154,
      "outputs": [
        {
          "output_type": "stream",
          "name": "stderr",
          "text": [
            "/usr/local/lib/python3.7/dist-packages/ipykernel_launcher.py:18: UserWarning: Implicit dimension choice for softmax has been deprecated. Change the call to include dim=X as an argument.\n"
          ]
        },
        {
          "output_type": "stream",
          "name": "stdout",
          "text": [
            "The BLEU score for k = 3 and the temperature = 0.2 \n",
            " BLEU = 13.75 31.7/15.8/11.4/6.2 (BP = 1.000 ratio = 1.344 hyp_len = 82 ref_len = 61)\n",
            "\n",
            "The BLEU score for k = 3 and the temperature = 0.5 \n",
            " BLEU = 13.83 34.2/14.9/9.8/7.3 (BP = 1.000 ratio = 1.197 hyp_len = 73 ref_len = 61)\n",
            "\n",
            "The BLEU score for k = 3 and the temperature = 0.8 \n",
            " BLEU = 19.81 43.2/20.6/16.1/10.7 (BP = 1.000 ratio = 1.213 hyp_len = 74 ref_len = 61)\n",
            "\n"
          ]
        }
      ]
    },
    {
      "cell_type": "markdown",
      "source": [
        "**For the topksampling with temperature we are getting a BLEU SCORE just around 20 with a temperature of 0.80 . There is an improvement from the greedy appraoch, which is comforting.**"
      ],
      "metadata": {
        "id": "zRluY0U4vCAX"
      }
    },
    {
      "cell_type": "markdown",
      "source": [
        "To sum up this notebook, our results are getting better with the topk sampling appraoch associated with temperature. The score of the normal topk sampling is really strange to us. We believe that we can see an improvement in our results with a longer training time for the model."
      ],
      "metadata": {
        "id": "n6-PV6ntw23W"
      }
    }
  ]
}