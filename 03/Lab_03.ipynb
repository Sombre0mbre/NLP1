{
 "cells": [
  {
   "cell_type": "markdown",
   "id": "8aff6c52",
   "metadata": {},
   "source": [
    "1. Turn the dataset into a dataset compatible with Fastext (see the Tips on using FastText section a bit lower)"
   ]
  },
  {
   "cell_type": "code",
   "execution_count": 25,
   "id": "c5528ff6",
   "metadata": {},
   "outputs": [
    {
     "name": "stderr",
     "output_type": "stream",
     "text": [
      "Reusing dataset imdb (C:\\Users\\matth\\.cache\\huggingface\\datasets\\imdb\\plain_text\\1.0.0\\2fdd8b9bcadd6e7055e742a706876ba43f19faee861df134affd7a3f60fc38a1)\n",
      "Reusing dataset imdb (C:\\Users\\matth\\.cache\\huggingface\\datasets\\imdb\\plain_text\\1.0.0\\2fdd8b9bcadd6e7055e742a706876ba43f19faee861df134affd7a3f60fc38a1)\n"
     ]
    },
    {
     "data": {
      "text/html": [
       "<div>\n",
       "<style scoped>\n",
       "    .dataframe tbody tr th:only-of-type {\n",
       "        vertical-align: middle;\n",
       "    }\n",
       "\n",
       "    .dataframe tbody tr th {\n",
       "        vertical-align: top;\n",
       "    }\n",
       "\n",
       "    .dataframe thead th {\n",
       "        text-align: right;\n",
       "    }\n",
       "</style>\n",
       "<table border=\"1\" class=\"dataframe\">\n",
       "  <thead>\n",
       "    <tr style=\"text-align: right;\">\n",
       "      <th></th>\n",
       "      <th>text</th>\n",
       "      <th>label</th>\n",
       "    </tr>\n",
       "  </thead>\n",
       "  <tbody>\n",
       "    <tr>\n",
       "      <th>0</th>\n",
       "      <td>I love sci-fi and am willing to put up with a ...</td>\n",
       "      <td>0</td>\n",
       "    </tr>\n",
       "    <tr>\n",
       "      <th>1</th>\n",
       "      <td>Worth the entertainment value of a rental, esp...</td>\n",
       "      <td>0</td>\n",
       "    </tr>\n",
       "    <tr>\n",
       "      <th>2</th>\n",
       "      <td>its a totally average film with a few semi-alr...</td>\n",
       "      <td>0</td>\n",
       "    </tr>\n",
       "    <tr>\n",
       "      <th>3</th>\n",
       "      <td>STAR RATING: ***** Saturday Night **** Friday ...</td>\n",
       "      <td>0</td>\n",
       "    </tr>\n",
       "    <tr>\n",
       "      <th>4</th>\n",
       "      <td>First off let me say, If you haven't enjoyed a...</td>\n",
       "      <td>0</td>\n",
       "    </tr>\n",
       "    <tr>\n",
       "      <th>...</th>\n",
       "      <td>...</td>\n",
       "      <td>...</td>\n",
       "    </tr>\n",
       "    <tr>\n",
       "      <th>24995</th>\n",
       "      <td>Just got around to seeing Monster Man yesterda...</td>\n",
       "      <td>1</td>\n",
       "    </tr>\n",
       "    <tr>\n",
       "      <th>24996</th>\n",
       "      <td>I got this as part of a competition prize. I w...</td>\n",
       "      <td>1</td>\n",
       "    </tr>\n",
       "    <tr>\n",
       "      <th>24997</th>\n",
       "      <td>I got Monster Man in a box set of three films ...</td>\n",
       "      <td>1</td>\n",
       "    </tr>\n",
       "    <tr>\n",
       "      <th>24998</th>\n",
       "      <td>Five minutes in, i started to feel how naff th...</td>\n",
       "      <td>1</td>\n",
       "    </tr>\n",
       "    <tr>\n",
       "      <th>24999</th>\n",
       "      <td>I caught this movie on the Sci-Fi channel rece...</td>\n",
       "      <td>1</td>\n",
       "    </tr>\n",
       "  </tbody>\n",
       "</table>\n",
       "<p>25000 rows × 2 columns</p>\n",
       "</div>"
      ],
      "text/plain": [
       "                                                    text  label\n",
       "0      I love sci-fi and am willing to put up with a ...      0\n",
       "1      Worth the entertainment value of a rental, esp...      0\n",
       "2      its a totally average film with a few semi-alr...      0\n",
       "3      STAR RATING: ***** Saturday Night **** Friday ...      0\n",
       "4      First off let me say, If you haven't enjoyed a...      0\n",
       "...                                                  ...    ...\n",
       "24995  Just got around to seeing Monster Man yesterda...      1\n",
       "24996  I got this as part of a competition prize. I w...      1\n",
       "24997  I got Monster Man in a box set of three films ...      1\n",
       "24998  Five minutes in, i started to feel how naff th...      1\n",
       "24999  I caught this movie on the Sci-Fi channel rece...      1\n",
       "\n",
       "[25000 rows x 2 columns]"
      ]
     },
     "execution_count": 25,
     "metadata": {},
     "output_type": "execute_result"
    }
   ],
   "source": [
    "from datasets import load_dataset\n",
    "\n",
    "train_dataset = load_dataset(\"imdb\", split=\"train\").to_pandas()\n",
    "test_dataset = load_dataset(\"imdb\", split=\"test\").to_pandas()\n",
    "\n",
    "test_dataset"
   ]
  },
  {
   "cell_type": "code",
   "execution_count": 2,
   "id": "53e00fa6",
   "metadata": {},
   "outputs": [],
   "source": [
    "train_dataset['text'] = train_dataset['text'].str.lower()\n",
    "test_dataset['text'] = test_dataset['text'].str.lower()"
   ]
  },
  {
   "cell_type": "code",
   "execution_count": 3,
   "id": "98016a78",
   "metadata": {},
   "outputs": [
    {
     "name": "stderr",
     "output_type": "stream",
     "text": [
      "C:\\Users\\matth\\AppData\\Local\\Temp\\ipykernel_12740\\1553221715.py:3: FutureWarning: The default value of regex will change from True to False in a future version.\n",
      "  train_dataset['text'] = train_dataset['text'].str.replace('[{}]'.format(punctuation), '')\n",
      "C:\\Users\\matth\\AppData\\Local\\Temp\\ipykernel_12740\\1553221715.py:4: FutureWarning: The default value of regex will change from True to False in a future version.\n",
      "  test_dataset['text'] = test_dataset['text'].str.replace('[{}]'.format(punctuation), '')\n"
     ]
    }
   ],
   "source": [
    "from string import punctuation\n",
    "\n",
    "train_dataset['text'] = train_dataset['text'].str.replace('[{}]'.format(punctuation), '')\n",
    "test_dataset['text'] = test_dataset['text'].str.replace('[{}]'.format(punctuation), '')"
   ]
  },
  {
   "cell_type": "code",
   "execution_count": 4,
   "id": "99aef3ee",
   "metadata": {},
   "outputs": [
    {
     "data": {
      "text/html": [
       "<div>\n",
       "<style scoped>\n",
       "    .dataframe tbody tr th:only-of-type {\n",
       "        vertical-align: middle;\n",
       "    }\n",
       "\n",
       "    .dataframe tbody tr th {\n",
       "        vertical-align: top;\n",
       "    }\n",
       "\n",
       "    .dataframe thead th {\n",
       "        text-align: right;\n",
       "    }\n",
       "</style>\n",
       "<table border=\"1\" class=\"dataframe\">\n",
       "  <thead>\n",
       "    <tr style=\"text-align: right;\">\n",
       "      <th></th>\n",
       "      <th>text</th>\n",
       "      <th>label</th>\n",
       "    </tr>\n",
       "  </thead>\n",
       "  <tbody>\n",
       "    <tr>\n",
       "      <th>0</th>\n",
       "      <td>i love scifi and am willing to put up with a l...</td>\n",
       "      <td>0</td>\n",
       "    </tr>\n",
       "    <tr>\n",
       "      <th>1</th>\n",
       "      <td>worth the entertainment value of a rental espe...</td>\n",
       "      <td>0</td>\n",
       "    </tr>\n",
       "    <tr>\n",
       "      <th>2</th>\n",
       "      <td>its a totally average film with a few semialri...</td>\n",
       "      <td>0</td>\n",
       "    </tr>\n",
       "    <tr>\n",
       "      <th>3</th>\n",
       "      <td>star rating  saturday night  friday night  fri...</td>\n",
       "      <td>0</td>\n",
       "    </tr>\n",
       "    <tr>\n",
       "      <th>4</th>\n",
       "      <td>first off let me say if you havent enjoyed a v...</td>\n",
       "      <td>0</td>\n",
       "    </tr>\n",
       "    <tr>\n",
       "      <th>...</th>\n",
       "      <td>...</td>\n",
       "      <td>...</td>\n",
       "    </tr>\n",
       "    <tr>\n",
       "      <th>24995</th>\n",
       "      <td>just got around to seeing monster man yesterda...</td>\n",
       "      <td>1</td>\n",
       "    </tr>\n",
       "    <tr>\n",
       "      <th>24996</th>\n",
       "      <td>i got this as part of a competition prize i wa...</td>\n",
       "      <td>1</td>\n",
       "    </tr>\n",
       "    <tr>\n",
       "      <th>24997</th>\n",
       "      <td>i got monster man in a box set of three films ...</td>\n",
       "      <td>1</td>\n",
       "    </tr>\n",
       "    <tr>\n",
       "      <th>24998</th>\n",
       "      <td>five minutes in i started to feel how naff thi...</td>\n",
       "      <td>1</td>\n",
       "    </tr>\n",
       "    <tr>\n",
       "      <th>24999</th>\n",
       "      <td>i caught this movie on the scifi channel recen...</td>\n",
       "      <td>1</td>\n",
       "    </tr>\n",
       "  </tbody>\n",
       "</table>\n",
       "<p>25000 rows × 2 columns</p>\n",
       "</div>"
      ],
      "text/plain": [
       "                                                    text  label\n",
       "0      i love scifi and am willing to put up with a l...      0\n",
       "1      worth the entertainment value of a rental espe...      0\n",
       "2      its a totally average film with a few semialri...      0\n",
       "3      star rating  saturday night  friday night  fri...      0\n",
       "4      first off let me say if you havent enjoyed a v...      0\n",
       "...                                                  ...    ...\n",
       "24995  just got around to seeing monster man yesterda...      1\n",
       "24996  i got this as part of a competition prize i wa...      1\n",
       "24997  i got monster man in a box set of three films ...      1\n",
       "24998  five minutes in i started to feel how naff thi...      1\n",
       "24999  i caught this movie on the scifi channel recen...      1\n",
       "\n",
       "[25000 rows x 2 columns]"
      ]
     },
     "execution_count": 4,
     "metadata": {},
     "output_type": "execute_result"
    }
   ],
   "source": [
    "test_dataset"
   ]
  },
  {
   "cell_type": "code",
   "execution_count": 33,
   "id": "2b431a1e",
   "metadata": {},
   "outputs": [],
   "source": [
    "def panda_to_fasttext(file, dataframe):\n",
    "    with open(file, 'w') as f:\n",
    "        for index, row in dataframe.iterrows():\n",
    "            f.writelines(f'__label__{str(row[\"label\"]).encode(\"utf-8\")} {row[\"text\"].encode(\"utf-8\")}\\n')"
   ]
  },
  {
   "cell_type": "code",
   "execution_count": 34,
   "id": "a78104f3",
   "metadata": {},
   "outputs": [],
   "source": [
    "panda_to_fasttext('imdb_train_comments.txt', train_dataset)"
   ]
  },
  {
   "cell_type": "code",
   "execution_count": 35,
   "id": "7232ffec",
   "metadata": {},
   "outputs": [],
   "source": [
    "panda_to_fasttext('imdb_test_comments.txt', test_dataset)"
   ]
  },
  {
   "cell_type": "code",
   "execution_count": 6,
   "id": "b9fe5021",
   "metadata": {},
   "outputs": [
    {
     "name": "stdout",
     "output_type": "stream",
     "text": [
      "Collecting fasttext\n",
      "  Downloading fasttext-0.9.2.tar.gz (68 kB)\n",
      "     ---------------------------------------- 68.8/68.8 kB 3.7 MB/s eta 0:00:00\n",
      "  Preparing metadata (setup.py): started\n",
      "  Preparing metadata (setup.py): finished with status 'done'\n",
      "Collecting pybind11>=2.2\n",
      "  Using cached pybind11-2.10.0-py3-none-any.whl (213 kB)\n",
      "Requirement already satisfied: setuptools>=0.7.0 in c:\\users\\matth\\anaconda3\\lib\\site-packages (from fasttext) (58.0.4)\n",
      "Requirement already satisfied: numpy in c:\\users\\matth\\appdata\\roaming\\python\\python39\\site-packages (from fasttext) (1.22.4)\n",
      "Building wheels for collected packages: fasttext\n",
      "  Building wheel for fasttext (setup.py): started\n",
      "  Building wheel for fasttext (setup.py): finished with status 'done'\n",
      "  Created wheel for fasttext: filename=fasttext-0.9.2-cp39-cp39-win_amd64.whl size=243528 sha256=be409ee3bebb374c7b5f95160cb006ef053c70d9032fd134c484dfd27986cb4f\n",
      "  Stored in directory: c:\\users\\matth\\appdata\\local\\pip\\cache\\wheels\\64\\57\\bc\\1741406019061d5664914b070bd3e71f6244648732bc96109e\n",
      "Successfully built fasttext\n",
      "Installing collected packages: pybind11, fasttext\n",
      "Successfully installed fasttext-0.9.2 pybind11-2.10.0\n"
     ]
    },
    {
     "name": "stderr",
     "output_type": "stream",
     "text": [
      "WARNING: Ignoring invalid distribution -illow (c:\\users\\matth\\appdata\\roaming\\python\\python39\\site-packages)\n",
      "WARNING: Ignoring invalid distribution -illow (c:\\users\\matth\\appdata\\roaming\\python\\python39\\site-packages)\n",
      "WARNING: Ignoring invalid distribution -illow (c:\\users\\matth\\appdata\\roaming\\python\\python39\\site-packages)\n",
      "WARNING: Ignoring invalid distribution -illow (c:\\users\\matth\\appdata\\roaming\\python\\python39\\site-packages)\n",
      "WARNING: Ignoring invalid distribution -illow (c:\\users\\matth\\appdata\\roaming\\python\\python39\\site-packages)\n",
      "WARNING: Ignoring invalid distribution -illow (c:\\users\\matth\\appdata\\roaming\\python\\python39\\site-packages)\n"
     ]
    }
   ],
   "source": [
    "!pip install fasttext"
   ]
  },
  {
   "cell_type": "markdown",
   "id": "9ccdaaae",
   "metadata": {},
   "source": [
    "2. Train a FastText classifier with default parameters on the training data, and evaluate it on the test data using accuracy."
   ]
  },
  {
   "cell_type": "code",
   "execution_count": 23,
   "id": "f3f1d921",
   "metadata": {},
   "outputs": [],
   "source": [
    "import fasttext\n",
    "\n",
    "model = fasttext.train_supervised('imdb_train_comments.txt')"
   ]
  },
  {
   "cell_type": "code",
   "execution_count": 24,
   "id": "7d8c540c",
   "metadata": {},
   "outputs": [
    {
     "data": {
      "text/plain": [
       "(25000, 0.84992, 0.84992)"
      ]
     },
     "execution_count": 24,
     "metadata": {},
     "output_type": "execute_result"
    }
   ],
   "source": [
    "model.test('imdb_test_comments.txt')  "
   ]
  },
  {
   "cell_type": "markdown",
   "id": "ff502abb",
   "metadata": {},
   "source": [
    "3. Use the hyperparameters search functionality of FastText and repeat step 2"
   ]
  },
  {
   "cell_type": "code",
   "execution_count": 29,
   "id": "3f1b79e6",
   "metadata": {},
   "outputs": [],
   "source": [
    "from sklearn.model_selection import train_test_split\n",
    "\n",
    "train, validation = train_test_split(train_dataset, test_size=0.2, random_state=42, shuffle=True)"
   ]
  },
  {
   "cell_type": "code",
   "execution_count": 36,
   "id": "517c9ad8",
   "metadata": {},
   "outputs": [],
   "source": [
    "panda_to_fasttext('imdb_validation_comments.txt', validation)\n",
    "panda_to_fasttext('imdb_train_comments.txt', train)"
   ]
  },
  {
   "cell_type": "code",
   "execution_count": 37,
   "id": "735197e3",
   "metadata": {},
   "outputs": [],
   "source": [
    "model = fasttext.train_supervised(input='imdb_train_comments.txt', autotuneValidationFile='imdb_validation_comments.txt')"
   ]
  },
  {
   "cell_type": "code",
   "execution_count": 38,
   "id": "90ead0a4",
   "metadata": {},
   "outputs": [
    {
     "data": {
      "text/plain": [
       "(25000, 0.88064, 0.88064)"
      ]
     },
     "execution_count": 38,
     "metadata": {},
     "output_type": "execute_result"
    }
   ],
   "source": [
    "model.test('imdb_test_comments.txt')  "
   ]
  },
  {
   "cell_type": "markdown",
   "id": "e0b705e2",
   "metadata": {},
   "source": [
    "4. Look at the differences between the default model and the attributes found with hyperparameters search. How do the two models differ?"
   ]
  },
  {
   "cell_type": "markdown",
   "id": "f242d388",
   "metadata": {},
   "source": [
    "The second model with parameters has a better accuracy than the first one."
   ]
  },
  {
   "cell_type": "markdown",
   "id": "93a30c46",
   "metadata": {},
   "source": [
    "5. Using the tuned model, take at least 2 wrongly classified examples from the test set, and try explaining why the model failed."
   ]
  },
  {
   "cell_type": "markdown",
   "id": "8ebc6170",
   "metadata": {},
   "source": []
  }
 ],
 "metadata": {
  "kernelspec": {
   "display_name": "Python 3 (ipykernel)",
   "language": "python",
   "name": "python3"
  },
  "language_info": {
   "codemirror_mode": {
    "name": "ipython",
    "version": 3
   },
   "file_extension": ".py",
   "mimetype": "text/x-python",
   "name": "python",
   "nbconvert_exporter": "python",
   "pygments_lexer": "ipython3",
   "version": "3.9.7"
  }
 },
 "nbformat": 4,
 "nbformat_minor": 5
}
