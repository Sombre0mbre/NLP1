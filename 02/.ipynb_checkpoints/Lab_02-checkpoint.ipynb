{
 "cells": [
  {
   "cell_type": "markdown",
   "metadata": {
    "tags": []
   },
   "source": [
    "#                                                                                     Lab n°2"
   ]
  },
  {
   "cell_type": "markdown",
   "metadata": {},
   "source": [
    "# 1) Data Import"
   ]
  },
  {
   "cell_type": "code",
   "execution_count": 1,
   "metadata": {},
   "outputs": [
    {
     "name": "stderr",
     "output_type": "stream",
     "text": [
      "Reusing dataset imdb (C:\\Users\\PION\\.cache\\huggingface\\datasets\\imdb\\plain_text\\1.0.0\\e3c66f1788a67a89c7058d97ff62b6c30531e05b549de56d3ab91891f0561f9a)\n",
      "Reusing dataset imdb (C:\\Users\\PION\\.cache\\huggingface\\datasets\\imdb\\plain_text\\1.0.0\\e3c66f1788a67a89c7058d97ff62b6c30531e05b549de56d3ab91891f0561f9a)\n"
     ]
    }
   ],
   "source": [
    "from datasets import load_dataset\n",
    "train_dataset = load_dataset(\"imdb\", split=\"train\").to_pandas()\n",
    "test_dataset = load_dataset(\"imdb\", split=\"test\").to_pandas()"
   ]
  },
  {
   "cell_type": "code",
   "execution_count": 2,
   "metadata": {
    "jupyter": {
     "outputs_hidden": false
    },
    "pycharm": {
     "name": "#%%\n"
    }
   },
   "outputs": [
    {
     "name": "stderr",
     "output_type": "stream",
     "text": [
      "Reusing dataset imdb (C:\\Users\\PION\\.cache\\huggingface\\datasets\\imdb\\plain_text\\1.0.0\\e3c66f1788a67a89c7058d97ff62b6c30531e05b549de56d3ab91891f0561f9a)\n",
      "Reusing dataset imdb (C:\\Users\\PION\\.cache\\huggingface\\datasets\\imdb\\plain_text\\1.0.0\\e3c66f1788a67a89c7058d97ff62b6c30531e05b549de56d3ab91891f0561f9a)\n"
     ]
    }
   ],
   "source": [
    "def get_train_dataset():\n",
    "    train = load_dataset(\"imdb\", split=\"train\").to_pandas()\n",
    "    return train\n",
    "def get_test_dataset():\n",
    "    test = load_dataset(\"imdb\", split=\"test\").to_pandas()\n",
    "    return test\n",
    "train_dataset = get_train_dataset()\n",
    "test_dataset = get_test_dataset()"
   ]
  },
  {
   "cell_type": "markdown",
   "metadata": {},
   "source": [
    "1) How many splits does the dataset has? (1 point)"
   ]
  },
  {
   "cell_type": "markdown",
   "metadata": {},
   "source": [
    "The Dataset has 3 split, a train split, a test split and a split containing unlabelized image"
   ]
  },
  {
   "cell_type": "markdown",
   "metadata": {},
   "source": [
    "2) How big are these splits? (1 point)\n",
    "3) What is the proportion of each class on the supervised splits? (1 point)"
   ]
  },
  {
   "cell_type": "code",
   "execution_count": 3,
   "metadata": {},
   "outputs": [
    {
     "data": {
      "text/html": [
       "<div>\n",
       "<style scoped>\n",
       "    .dataframe tbody tr th:only-of-type {\n",
       "        vertical-align: middle;\n",
       "    }\n",
       "\n",
       "    .dataframe tbody tr th {\n",
       "        vertical-align: top;\n",
       "    }\n",
       "\n",
       "    .dataframe thead th {\n",
       "        text-align: right;\n",
       "    }\n",
       "</style>\n",
       "<table border=\"1\" class=\"dataframe\">\n",
       "  <thead>\n",
       "    <tr style=\"text-align: right;\">\n",
       "      <th></th>\n",
       "      <th>text</th>\n",
       "    </tr>\n",
       "    <tr>\n",
       "      <th>label</th>\n",
       "      <th></th>\n",
       "    </tr>\n",
       "  </thead>\n",
       "  <tbody>\n",
       "    <tr>\n",
       "      <th>0</th>\n",
       "      <td>12500</td>\n",
       "    </tr>\n",
       "    <tr>\n",
       "      <th>1</th>\n",
       "      <td>12500</td>\n",
       "    </tr>\n",
       "  </tbody>\n",
       "</table>\n",
       "</div>"
      ],
      "text/plain": [
       "        text\n",
       "label       \n",
       "0      12500\n",
       "1      12500"
      ]
     },
     "execution_count": 3,
     "metadata": {},
     "output_type": "execute_result"
    }
   ],
   "source": [
    "test_label = test_dataset.groupby('label')\n",
    "test_label.count()"
   ]
  },
  {
   "cell_type": "code",
   "execution_count": 4,
   "metadata": {},
   "outputs": [
    {
     "data": {
      "text/html": [
       "<div>\n",
       "<style scoped>\n",
       "    .dataframe tbody tr th:only-of-type {\n",
       "        vertical-align: middle;\n",
       "    }\n",
       "\n",
       "    .dataframe tbody tr th {\n",
       "        vertical-align: top;\n",
       "    }\n",
       "\n",
       "    .dataframe thead th {\n",
       "        text-align: right;\n",
       "    }\n",
       "</style>\n",
       "<table border=\"1\" class=\"dataframe\">\n",
       "  <thead>\n",
       "    <tr style=\"text-align: right;\">\n",
       "      <th></th>\n",
       "      <th>text</th>\n",
       "    </tr>\n",
       "    <tr>\n",
       "      <th>label</th>\n",
       "      <th></th>\n",
       "    </tr>\n",
       "  </thead>\n",
       "  <tbody>\n",
       "    <tr>\n",
       "      <th>0</th>\n",
       "      <td>12500</td>\n",
       "    </tr>\n",
       "    <tr>\n",
       "      <th>1</th>\n",
       "      <td>12500</td>\n",
       "    </tr>\n",
       "  </tbody>\n",
       "</table>\n",
       "</div>"
      ],
      "text/plain": [
       "        text\n",
       "label       \n",
       "0      12500\n",
       "1      12500"
      ]
     },
     "execution_count": 4,
     "metadata": {},
     "output_type": "execute_result"
    }
   ],
   "source": [
    "train_label = train_dataset.groupby('label')\n",
    "train_label.count()"
   ]
  },
  {
   "cell_type": "code",
   "execution_count": 5,
   "metadata": {
    "jupyter": {
     "outputs_hidden": false
    },
    "pycharm": {
     "name": "#%%\n"
    }
   },
   "outputs": [
    {
     "data": {
      "text/plain": [
       "text     12500\n",
       "label    12500\n",
       "dtype: int64"
      ]
     },
     "execution_count": 5,
     "metadata": {},
     "output_type": "execute_result"
    }
   ],
   "source": [
    "test_dataset[test_dataset['label'] == 0].count()"
   ]
  },
  {
   "cell_type": "code",
   "execution_count": 6,
   "metadata": {
    "jupyter": {
     "outputs_hidden": false
    },
    "pycharm": {
     "name": "#%%\n"
    }
   },
   "outputs": [
    {
     "data": {
      "text/plain": [
       "text     12500\n",
       "label    12500\n",
       "dtype: int64"
      ]
     },
     "execution_count": 6,
     "metadata": {},
     "output_type": "execute_result"
    }
   ],
   "source": [
    "train_dataset[train_dataset['label'] == 0].count()"
   ]
  },
  {
   "cell_type": "markdown",
   "metadata": {},
   "source": [
    "## Pre treatment"
   ]
  },
  {
   "cell_type": "markdown",
   "metadata": {},
   "source": [
    "The first thing to do was to lowercase our entry and remove the punctuation"
   ]
  },
  {
   "cell_type": "code",
   "execution_count": 6,
   "metadata": {
    "jupyter": {
     "outputs_hidden": false
    },
    "pycharm": {
     "name": "#%%\n"
    }
   },
   "outputs": [
    {
     "name": "stderr",
     "output_type": "stream",
     "text": [
      "C:\\Users\\PION\\AppData\\Local\\Temp\\ipykernel_2812\\4281025190.py:6: FutureWarning: The default value of regex will change from True to False in a future version.\n",
      "  data['text'] = data['text'].str.replace('[{}]'.format(punctuation),'')\n"
     ]
    }
   ],
   "source": [
    "from string import punctuation\n",
    "\n",
    "def lowercase_punctuation(data):\n",
    "    ''' Put our data in lowercase and remove the punctuation'''\n",
    "    data['text'] = data['text'].str.lower()\n",
    "    data['text'] = data['text'].str.replace('[{}]'.format(punctuation),'')\n",
    "    \n",
    "lowercase_punctuation(test_dataset)\n",
    "lowercase_punctuation(train_dataset)"
   ]
  },
  {
   "cell_type": "markdown",
   "metadata": {},
   "source": [
    "## Creation of our model"
   ]
  },
  {
   "cell_type": "markdown",
   "metadata": {},
   "source": [
    "Importation of library for our model"
   ]
  },
  {
   "cell_type": "code",
   "execution_count": 7,
   "metadata": {},
   "outputs": [],
   "source": [
    "#Creating our model\n",
    "import sklearn\n",
    "from sklearn.pipeline import Pipeline\n",
    "from sklearn.feature_extraction.text import CountVectorizer\n",
    "from sklearn.feature_extraction.text import TfidfVectorizer\n",
    "#TfidfVectorizer is capable of doing both word count vectorization and IDF calculations.\n",
    "from sklearn.naive_bayes import MultinomialNB\n",
    "\n",
    "from sklearn import metrics\n",
    "from sklearn.metrics import accuracy_score\n",
    "import numpy as np\n",
    "import matplotlib.pyplot as plt"
   ]
  },
  {
   "cell_type": "markdown",
   "metadata": {},
   "source": [
    "Our pipeline"
   ]
  },
  {
   "cell_type": "code",
   "execution_count": 53,
   "metadata": {},
   "outputs": [
    {
     "data": {
      "text/html": [
       "<style>#sk-container-id-3 {color: black;background-color: white;}#sk-container-id-3 pre{padding: 0;}#sk-container-id-3 div.sk-toggleable {background-color: white;}#sk-container-id-3 label.sk-toggleable__label {cursor: pointer;display: block;width: 100%;margin-bottom: 0;padding: 0.3em;box-sizing: border-box;text-align: center;}#sk-container-id-3 label.sk-toggleable__label-arrow:before {content: \"▸\";float: left;margin-right: 0.25em;color: #696969;}#sk-container-id-3 label.sk-toggleable__label-arrow:hover:before {color: black;}#sk-container-id-3 div.sk-estimator:hover label.sk-toggleable__label-arrow:before {color: black;}#sk-container-id-3 div.sk-toggleable__content {max-height: 0;max-width: 0;overflow: hidden;text-align: left;background-color: #f0f8ff;}#sk-container-id-3 div.sk-toggleable__content pre {margin: 0.2em;color: black;border-radius: 0.25em;background-color: #f0f8ff;}#sk-container-id-3 input.sk-toggleable__control:checked~div.sk-toggleable__content {max-height: 200px;max-width: 100%;overflow: auto;}#sk-container-id-3 input.sk-toggleable__control:checked~label.sk-toggleable__label-arrow:before {content: \"▾\";}#sk-container-id-3 div.sk-estimator input.sk-toggleable__control:checked~label.sk-toggleable__label {background-color: #d4ebff;}#sk-container-id-3 div.sk-label input.sk-toggleable__control:checked~label.sk-toggleable__label {background-color: #d4ebff;}#sk-container-id-3 input.sk-hidden--visually {border: 0;clip: rect(1px 1px 1px 1px);clip: rect(1px, 1px, 1px, 1px);height: 1px;margin: -1px;overflow: hidden;padding: 0;position: absolute;width: 1px;}#sk-container-id-3 div.sk-estimator {font-family: monospace;background-color: #f0f8ff;border: 1px dotted black;border-radius: 0.25em;box-sizing: border-box;margin-bottom: 0.5em;}#sk-container-id-3 div.sk-estimator:hover {background-color: #d4ebff;}#sk-container-id-3 div.sk-parallel-item::after {content: \"\";width: 100%;border-bottom: 1px solid gray;flex-grow: 1;}#sk-container-id-3 div.sk-label:hover label.sk-toggleable__label {background-color: #d4ebff;}#sk-container-id-3 div.sk-serial::before {content: \"\";position: absolute;border-left: 1px solid gray;box-sizing: border-box;top: 0;bottom: 0;left: 50%;z-index: 0;}#sk-container-id-3 div.sk-serial {display: flex;flex-direction: column;align-items: center;background-color: white;padding-right: 0.2em;padding-left: 0.2em;position: relative;}#sk-container-id-3 div.sk-item {position: relative;z-index: 1;}#sk-container-id-3 div.sk-parallel {display: flex;align-items: stretch;justify-content: center;background-color: white;position: relative;}#sk-container-id-3 div.sk-item::before, #sk-container-id-3 div.sk-parallel-item::before {content: \"\";position: absolute;border-left: 1px solid gray;box-sizing: border-box;top: 0;bottom: 0;left: 50%;z-index: -1;}#sk-container-id-3 div.sk-parallel-item {display: flex;flex-direction: column;z-index: 1;position: relative;background-color: white;}#sk-container-id-3 div.sk-parallel-item:first-child::after {align-self: flex-end;width: 50%;}#sk-container-id-3 div.sk-parallel-item:last-child::after {align-self: flex-start;width: 50%;}#sk-container-id-3 div.sk-parallel-item:only-child::after {width: 0;}#sk-container-id-3 div.sk-dashed-wrapped {border: 1px dashed gray;margin: 0 0.4em 0.5em 0.4em;box-sizing: border-box;padding-bottom: 0.4em;background-color: white;}#sk-container-id-3 div.sk-label label {font-family: monospace;font-weight: bold;display: inline-block;line-height: 1.2em;}#sk-container-id-3 div.sk-label-container {text-align: center;}#sk-container-id-3 div.sk-container {/* jupyter's `normalize.less` sets `[hidden] { display: none; }` but bootstrap.min.css set `[hidden] { display: none !important; }` so we also need the `!important` here to be able to override the default hidden behavior on the sphinx rendered scikit-learn.org. See: https://github.com/scikit-learn/scikit-learn/issues/21755 */display: inline-block !important;position: relative;}#sk-container-id-3 div.sk-text-repr-fallback {display: none;}</style><div id=\"sk-container-id-3\" class=\"sk-top-container\"><div class=\"sk-text-repr-fallback\"><pre>Pipeline(steps=[(&#x27;vect&#x27;, CountVectorizer()), (&#x27;clf&#x27;, MultinomialNB())])</pre><b>In a Jupyter environment, please rerun this cell to show the HTML representation or trust the notebook. <br />On GitHub, the HTML representation is unable to render, please try loading this page with nbviewer.org.</b></div><div class=\"sk-container\" hidden><div class=\"sk-item sk-dashed-wrapped\"><div class=\"sk-label-container\"><div class=\"sk-label sk-toggleable\"><input class=\"sk-toggleable__control sk-hidden--visually\" id=\"sk-estimator-id-7\" type=\"checkbox\" ><label for=\"sk-estimator-id-7\" class=\"sk-toggleable__label sk-toggleable__label-arrow\">Pipeline</label><div class=\"sk-toggleable__content\"><pre>Pipeline(steps=[(&#x27;vect&#x27;, CountVectorizer()), (&#x27;clf&#x27;, MultinomialNB())])</pre></div></div></div><div class=\"sk-serial\"><div class=\"sk-item\"><div class=\"sk-estimator sk-toggleable\"><input class=\"sk-toggleable__control sk-hidden--visually\" id=\"sk-estimator-id-8\" type=\"checkbox\" ><label for=\"sk-estimator-id-8\" class=\"sk-toggleable__label sk-toggleable__label-arrow\">CountVectorizer</label><div class=\"sk-toggleable__content\"><pre>CountVectorizer()</pre></div></div></div><div class=\"sk-item\"><div class=\"sk-estimator sk-toggleable\"><input class=\"sk-toggleable__control sk-hidden--visually\" id=\"sk-estimator-id-9\" type=\"checkbox\" ><label for=\"sk-estimator-id-9\" class=\"sk-toggleable__label sk-toggleable__label-arrow\">MultinomialNB</label><div class=\"sk-toggleable__content\"><pre>MultinomialNB()</pre></div></div></div></div></div></div></div>"
      ],
      "text/plain": [
       "Pipeline(steps=[('vect', CountVectorizer()), ('clf', MultinomialNB())])"
      ]
     },
     "execution_count": 53,
     "metadata": {},
     "output_type": "execute_result"
    }
   ],
   "source": [
    "text_pip = Pipeline([('vect', CountVectorizer()), ('clf', MultinomialNB()) ])\n",
    "text_pip.fit(train_dataset['text'],train_dataset['label'])"
   ]
  },
  {
   "cell_type": "code",
<<<<<<< HEAD:data_import.ipynb
   "execution_count": 27,
   "metadata": {},
=======
   "execution_count": 8,
   "metadata": {
    "jupyter": {
     "outputs_hidden": false
    },
    "pycharm": {
     "name": "#%%\n"
    }
   },
>>>>>>> 0ada03f41cf3b748ece0ea76b31a3c4e800b63a1:02/.ipynb_checkpoints/Lab_02-checkpoint.ipynb
   "outputs": [
    {
     "name": "stderr",
     "output_type": "stream",
     "text": [
      "C:\\Users\\PION\\anaconda3\\envs\\PYTORCH\\lib\\site-packages\\sklearn\\utils\\deprecation.py:87: FutureWarning: Function plot_confusion_matrix is deprecated; Function `plot_confusion_matrix` is deprecated in 1.0 and will be removed in 1.2. Use one of the class methods: ConfusionMatrixDisplay.from_predictions or ConfusionMatrixDisplay.from_estimator.\n",
      "  warnings.warn(msg, category=FutureWarning)\n"
     ]
    },
    {
     "data": {
      "image/png": "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\n",
      "text/plain": [
       "<Figure size 640x480 with 2 Axes>"
      ]
     },
     "metadata": {},
     "output_type": "display_data"
    }
   ],
   "source": [
    "def prediction(data,col):\n",
    "    text_pip.predict(data[col])\n",
    "    metrics.plot_confusion_matrix(text_pip,data[col],data['label'])\n",
    "    plt.show()\n",
    "prediction(test_dataset,'text')"
   ]
  },
  {
   "cell_type": "code",
   "execution_count": 28,
   "metadata": {},
   "outputs": [
    {
     "name": "stderr",
     "output_type": "stream",
     "text": [
      "C:\\Users\\PION\\anaconda3\\envs\\PYTORCH\\lib\\site-packages\\sklearn\\utils\\deprecation.py:87: FutureWarning: Function plot_confusion_matrix is deprecated; Function `plot_confusion_matrix` is deprecated in 1.0 and will be removed in 1.2. Use one of the class methods: ConfusionMatrixDisplay.from_predictions or ConfusionMatrixDisplay.from_estimator.\n",
      "  warnings.warn(msg, category=FutureWarning)\n"
     ]
    },
    {
     "data": {
      "image/png": "iVBORw0KGgoAAAANSUhEUgAAAg0AAAGwCAYAAAAqpFaiAAAAOXRFWHRTb2Z0d2FyZQBNYXRwbG90bGliIHZlcnNpb24zLjUuMiwgaHR0cHM6Ly9tYXRwbG90bGliLm9yZy8qNh9FAAAACXBIWXMAAA9hAAAPYQGoP6dpAABALklEQVR4nO3deXhU9dn/8c9kX0gGAiYhGCBIRDSoGGgILmDZFUF9fkUbjVgRVBRMAfGhVEUsQWgFVCoitUIRCj614FJNARcsskeiLCmIBghLCJQwIQtZZs7vj8jYIVEnnAkJnPfrus51dc65z5nvxJS5c9/f7zk2wzAMAQAA/AS/xh4AAAC4MJA0AAAAr5A0AAAAr5A0AAAAr5A0AAAAr5A0AAAAr5A0AAAArwQ09gDMcLlcOnz4sCIiImSz2Rp7OACAejIMQ6dOnVJcXJz8/Bru79jTp0+rsrLS9HWCgoIUEhLigxFdmC7opOHw4cOKj49v7GEAAEzKz8/XpZde2iDXPn36tBLaNVNBodP0tWJjY5WXl2fZxOGCThoiIiIkSfu/aK/IZnRacHG64/IujT0EoMFUq0rr9IH73/OGUFlZqYJCp/Znt1dkxLl/VxSfcqld8j5VVlaSNFyIzrQkIpv5mfpFAJqyAFtgYw8BaDjfPcjgfLSYm0XY1Czi3N/HJdrgF3TSAACAt5yGS04TT1tyGi7fDeYCRdIAALAElwy5dO5Zg5lzLxbU9AEAgFeoNAAALMEll8w0GMydfXEgaQAAWILTMOQ0zr3FYObciwXtCQAA4BUqDQAAS2AipHkkDQAAS3DJkJOkwRTaEwAAwCtUGgAAlkB7wjySBgCAJbB6wjzaEwAAwCtUGgAAluD6bjNzvtWRNAAALMFpcvWEmXMvFiQNAABLcBoy+ZRL343lQsWcBgAA4BUqDQAAS2BOg3kkDQAAS3DJJqdsps63OtoTAADAK1QaAACW4DJqNjPnWx1JAwDAEpwm2xNmzr1Y0J4AAABeodIAALAEKg3mkTQAACzBZdjkMkysnjBx7sWC9gQAAPAKlQYAgCXQnjCPpAEAYAlO+clposDu9OFYLlQkDQAASzBMzmkwmNPAnAYAAOAdKg0AAEtgToN5JA0AAEtwGn5yGibmNHAbadoTAADAO1QaAACW4JJNLhN/K7tEqYGkAQBgCcxpMI/2BAAA8AqVBgCAJZifCEl7gqQBAGAJNXMaTDywivYE7QkAAOAdKg0AAEtwmXz2BKsnSBoAABbBnAbzSBoAAJbgkh/3aTCJOQ0AAMArVBoAAJbgNGxymni8tZlzLxYkDQAAS3CanAjppD1BewIAAHiHSgMAwBJchp9cJlZPuFg9QdIAALAG2hPm0Z4AAABeodIAALAEl8ytgHD5bigXLJIGAIAlmL+5E8V5fgIAAMArVBoAAJZg/tkT/J1N0gAAsASXbHLJzJwG7ghJ0gAAsAQqDebxEwAAoAF89tlnuu222xQXFyebzaaVK1d6HDcMQ1OmTFFcXJxCQ0PVu3dv7dy50yOmoqJCY8aMUatWrRQeHq4hQ4bo4MGDHjFFRUVKT0+X3W6X3W5Xenq6Tp486RFz4MAB3XbbbQoPD1erVq00duxYVVZW1vszkTQAACzhzM2dzGz1UVpaqmuuuUZz586t8/jMmTM1a9YszZ07V1u2bFFsbKz69eunU6dOuWMyMjK0YsUKLVu2TOvWrVNJSYkGDx4sp9PpjklLS1NOTo6ysrKUlZWlnJwcpaenf/+5nU7deuutKi0t1bp167Rs2TK9/fbbGj9+fD1/grQnAAAW4TJscpm5T8N35xYXF3vsDw4OVnBwcK34QYMGadCgQXVeyzAMzZkzR5MnT9add94pSVq0aJFiYmK0dOlSPfTQQ3I4HHr99de1ePFi9e3bV5L05ptvKj4+XmvWrNGAAQOUm5urrKwsbdy4USkpKZKkBQsWKDU1Vbt371anTp20atUq7dq1S/n5+YqLi5MkvfDCC7r//vs1bdo0RUZGev0zoNIAAEA9xMfHu1sBdrtd06dPr/c18vLyVFBQoP79+7v3BQcHq1evXlq/fr0kKTs7W1VVVR4xcXFxSkpKcsds2LBBdrvdnTBIUo8ePWS32z1ikpKS3AmDJA0YMEAVFRXKzs6u17ipNAAALMFl8tkTZ27ulJ+f7/HXeV1Vhp9SUFAgSYqJifHYHxMTo/3797tjgoKC1KJFi1oxZ84vKChQdHR0retHR0d7xJz9Pi1atFBQUJA7xlskDQAASzD/lMuacyMjI+tV0v8xNptnu8QwjFr7znZ2TF3x5xLjDdoTAACcZ7GxsZJU6y/9wsJCd1UgNjZWlZWVKioq+tGYo0eP1rr+sWPHPGLOfp+ioiJVVVXVqkD8FJIGAIAlOGUzvflKQkKCYmNjtXr1ave+yspKrV27Vj179pQkJScnKzAw0CPmyJEj2rFjhzsmNTVVDodDmzdvdsds2rRJDofDI2bHjh06cuSIO2bVqlUKDg5WcnJyvcZNewIAYAm+ak94q6SkRHv37nW/zsvLU05OjqKiotS2bVtlZGQoMzNTiYmJSkxMVGZmpsLCwpSWliZJstvtGjFihMaPH6+WLVsqKipKEyZMUJcuXdyrKTp37qyBAwdq5MiRmj9/viRp1KhRGjx4sDp16iRJ6t+/v6688kqlp6fr97//vU6cOKEJEyZo5MiR9W6zkDQAANAAtm7dqptvvtn9ety4cZKk4cOHa+HChZo4caLKy8s1evRoFRUVKSUlRatWrVJERIT7nNmzZysgIEDDhg1TeXm5+vTpo4ULF8rf398ds2TJEo0dO9a9ymLIkCEe94bw9/fXP/7xD40ePVrXX3+9QkNDlZaWpj/84Q/1/kw2wzCMep/VRBQXF8tut6toTwdFRtBpwcVpQNy1jT0EoMFUG1X6VO/I4XD4bHLh2c58Vzy9qa9CmgWe83VOl1RpasqaBh1rU0elAQBgCee7PXExImkAAFgCD6wyj58AAADwCpUGAIAlGLLJZWLZpOHDJZcXKpIGAIAl0J4wj58AAADwCpUGAIAl+OrR2FZG0gAAsASnyadcmjn3YsFPAAAAeIVKAwDAEmhPmEfSAACwBJf85DJRYDdz7sWCnwAAAPAKlQYAgCU4DZucJloMZs69WJA0AAAsgTkN5pE0AAAswTD5lEuDO0IypwEAAHiHSgMAwBKcsslp4qFTZs69WJA0AAAswWWYm5fgMnw4mAsU7QkAAOAVKg0Xue0bw/V/r0Tr6+1hOnE0UM+8nqeegxzu4+s+sOuDxS319VdhKi4K0CurduuypHKPa5woDNCfnovTF59FqKzET/GXVejusUd14+Dvr3PqpL/mPdVGG1bZJUmp/R0a/btDamZ3SpJWLY/SC79uW+cYl3+1Q81bVfv6owNuLWOrNGLyYXW/+ZSCQl069G2wZo2L197tYZKk5q2qNGLyESX3OqVwu1M7NjbTH3/bRofzgt3XGDsjX11vLFHLmCqVl/kpd2u4Xp/WWvl7QxrrY6GeXCYnQpo592JB0nCRO13mpw5Xlav/3Sf03IMJdR6/snupbhx8UnOeqPtLfeaYdio95acpC/Nkj6rWJytaKPPh9nr5wz3q2KUmwXj+0XY6fiRQ05Z8I0l6cWK8Zo5pq6l/yZMk9RpSpG43F3tc9w8ZbVVV4UfCgAbVzF6tWe98ra/WN9Nv7+2gk8cD1Lp9hUqL/b+LMPTMn/fJWW3TlF8lqKzET3eOOqbnl3+jkb06qaK8Ju7rr8L08d9b6NihIEW0qNa9448q86/fanhKZ7lc9LovBC7Z5DIxL8HMuReLRk+bXnnlFSUkJCgkJETJycn617/+1dhDuqh0//kp3f9kgW64xVHn8b7/r0j3jjuqrjeV/OA1crPDNPSB47qia5lat6tUWsZRhdud2rs9VJJ04Otgbf0kUr/+Q76u7FamK7uVKeP3+dq0xq78vTV/qQWHGoqKrnZvfv6Gvvy8mQb88j++/9DAfxn2aKGOHw7SC79uq905YTp6MEg56yJ0ZH/N72abDpW6sluZXv7fS7XnyzAd/CZEcyddqtAwl26+46T7Oh8uaakdm5rp6MEg7d0epkUzYhXdpkox8ZWN9MmA869Rk4bly5crIyNDkydP1rZt23TjjTdq0KBBOnDgQGMOC2e56melWvtucxUX+cvlkj5d2VxVFTZd3bMm0cjdGq7wSKeuuK7MfU7n5DKFRzq1a2t4nddc839RCg41dOOtJ8/HR4CF9ehfrD1fhmry/H1a/tVO/XHVbg1K+z5ZDQxySZIqK77/K9LlsqmqyqarupfWec3gUKf633VCR/YH6djhwIb9APCZM3eENLNZXaMmDbNmzdKIESP04IMPqnPnzpozZ47i4+M1b968xhwWzjL51ZrS7S+u6qLB7a/Ri0/G6+nX8xTXvuYvrBPHAtS8VVWt85q3qlLRsbo7YP9cFqWb7yhScCjTkdGwWret1OD7/qPDecH6TVqC/vGXVnrkuUPq+/9OSJLy94aoID9QD0w6omb2agUEujTssaNqGVOtqBjP3+vBw49r5dfb9e43O9Tt5lOadHcHVVc1esEWXjozp8HMZnWN9hOorKxUdna2+vfv77G/f//+Wr9+fZ3nVFRUqLi42GNDw1s4o7VKHP56fvlevfzhbv3PqEJNeyhBebnfTwCrK/82DFud+3dtDdOBPaEaSGsC54HNT9q7I1RvPN9a3+wI0wdvttSHS1vq1vtqfv+c1TY992B7tbmsQm/n7tS732zXNaml2vxRhFxOz9/gj//eQqP7X67xd1ymQ3nBmjx/vwKDXY3xsYBG0WgTIY8fPy6n06mYmBiP/TExMSooKKjznOnTp+vZZ589H8PDdw7vC9K7b1yi+Z/8W+07nZYkXXbVaW3f1EzvLmylx2ccVNQl1So6XrtE6/hPgJpfUnuSY9bSlrrsqjIlXl1e6xjgaycKA7R/j+cKh/yvg3XDLSfdr/duD9Pofp0UFuFUYKAhx4kAvfj+19rzVajHeWWn/FV2yl+H84L17y/C9HbuTl0/yKFPV7Y4Hx8FJrlk8tkTTIRs/ImQNpvnfwTDMGrtO2PSpElyOBzuLT8//3wM0dIqymt+Rfz8PNsI/v6GjO/+wOrcrVSlxf7697Yw9/F/fxGm0mJ/XdnNsydcXuqnz95rrgG/PNGwAwe+s2tLuOIvq/DY16ZDhQoPBdWKLTvlL8eJAMUlVCjxmjJt+Kf9xy9uMxQYRIvtQmF8t3riXDeDpKHxKg2tWrWSv79/rapCYWFhrerDGcHBwQoODq7zGOpWXurnsda8ID9I3+wIVUTzakVfWqXiIn8dOxSk/xyt+VXI/6YmtkV0laKiqxXf8bTiEir04sR4jXz6sCJbVGt9ll1ffBahqX/5VpLUNrFC3W4u1pwn4vX4jJpE7sWJ8Urp61B8R89/rNe+01xOp00/v7PofHx8QH9/7RLNfvdr3T3mqD57r7k6dS3TLfee0JwnLnXH3Dj4pBz/CVDhoUAldD6th6ce0oYsu75YGyFJim1boV5DTip7bYQcJwLUKrZKwx4tVGW5nzZ/FNFYHw31xFMuzWu0pCEoKEjJyclavXq17rjjDvf+1atXa+jQoY01rIvOni/DNPH/dXS/nj+ljSSp37ATmjDngDausnvcdGn6I+0lSfeOK1D6hAIFBEq/W/yNXs+M0zPDE1Re6qe4hEpNePGAftbnlPu8J+fu17yn2ug3v7xMktSjv0OPTjtUazxZf22p6wedVERzZ0N8XKCWPV+GaeqIBP1q0hHd8+ujKsgP0qtPx+mTFd+3FKJiqvTQlMNq3qpaJwoDtOb/WmjpnO//eKms8FNSSqnuGHlczexOnTweoO0bw/XroR3l+A+rJ2AdNsMwGq22tnz5cqWnp+vVV19VamqqXnvtNS1YsEA7d+5Uu3btfvL84uJi2e12Fe3poMiIRu+0AA1iQNy1jT0EoMFUG1X6VO/I4XAoMjKyQd7jzHfFHat/pcDw2m0pb1WVVmpFvzcadKxNXaPeEfKuu+7Sf/7zH02dOlVHjhxRUlKSPvjgA68SBgAA6oP2hHmNfhvp0aNHa/To0Y09DAAA8BMaPWkAAOB84NkT5pE0AAAsgfaEecweBAAAXqHSAACwBCoN5pE0AAAsgaTBPNoTAADAK1QaAACWQKXBPJIGAIAlGDK3bJJHk5E0AAAsgkqDecxpAAAAXqHSAACwBCoN5pE0AAAsgaTBPNoTAADAK1QaAACWQKXBPJIGAIAlGIZNhokvfjPnXixoTwAAAK9QaQAAWIJLNlM3dzJz7sWCpAEAYAnMaTCP9gQAAPAKlQYAgCUwEdI8kgYAgCXQnjCPpAEAYAlUGsxjTgMAAPAKSQMAwBKM79oT57rVt9JQXV2t3/72t0pISFBoaKg6dOigqVOnyuVy/deYDE2ZMkVxcXEKDQ1V7969tXPnTo/rVFRUaMyYMWrVqpXCw8M1ZMgQHTx40COmqKhI6enpstvtstvtSk9P18mTJ8/5Z/VDSBoAAJZgSDIME1s932/GjBl69dVXNXfuXOXm5mrmzJn6/e9/r5dfftkdM3PmTM2aNUtz587Vli1bFBsbq379+unUqVPumIyMDK1YsULLli3TunXrVFJSosGDB8vpdLpj0tLSlJOTo6ysLGVlZSknJ0fp6ekmf2K1MacBAIAGsGHDBg0dOlS33nqrJKl9+/b661//qq1bt0qqqTLMmTNHkydP1p133ilJWrRokWJiYrR06VI99NBDcjgcev3117V48WL17dtXkvTmm28qPj5ea9as0YABA5Sbm6usrCxt3LhRKSkpkqQFCxYoNTVVu3fvVqdOnXz2mag0AAAs4cwdIc1sklRcXOyxVVRU1Pl+N9xwgz766CPt2bNHkvTll19q3bp1uuWWWyRJeXl5KigoUP/+/d3nBAcHq1evXlq/fr0kKTs7W1VVVR4xcXFxSkpKcsds2LBBdrvdnTBIUo8ePWS3290xvkKlAQBgCb5aPREfH++x/5lnntGUKVNqxT/55JNyOBy64oor5O/vL6fTqWnTpumXv/ylJKmgoECSFBMT43FeTEyM9u/f744JCgpSixYtasWcOb+goEDR0dG13j86Otod4yskDQAA1EN+fr4iIyPdr4ODg+uMW758ud58800tXbpUV111lXJycpSRkaG4uDgNHz7cHWezeSYyhmHU2ne2s2PqivfmOvVF0gAAsASXYZPNBzd3ioyM9EgafsgTTzyh//3f/9Xdd98tSerSpYv279+v6dOna/jw4YqNjZVUUylo3bq1+7zCwkJ39SE2NlaVlZUqKiryqDYUFhaqZ8+e7pijR4/Wev9jx47VqmKYxZwGAIAlmFo58d1WH2VlZfLz8/ya9ff3dy+5TEhIUGxsrFavXu0+XllZqbVr17oTguTkZAUGBnrEHDlyRDt27HDHpKamyuFwaPPmze6YTZs2yeFwuGN8hUoDAAAN4LbbbtO0adPUtm1bXXXVVdq2bZtmzZqlBx54QFJNSyEjI0OZmZlKTExUYmKiMjMzFRYWprS0NEmS3W7XiBEjNH78eLVs2VJRUVGaMGGCunTp4l5N0blzZw0cOFAjR47U/PnzJUmjRo3S4MGDfbpyQiJpAABYxPm+jfTLL7+sp556SqNHj1ZhYaHi4uL00EMP6emnn3bHTJw4UeXl5Ro9erSKioqUkpKiVatWKSIiwh0ze/ZsBQQEaNiwYSovL1efPn20cOFC+fv7u2OWLFmisWPHuldZDBkyRHPnzj3nz/pDbIZR34JL01FcXCy73a6iPR0UGUGnBRenAXHXNvYQgAZTbVTpU70jh8Ph1TyBc3Hmu6LzX5+Uf1jdkxa94SyrUO4vZzToWJs6Kg0AAEvw1URIK+PPcwAA4BUqDQAASziXFRBnn291JA0AAEuoSRrMTIT04WAuULQnAACAV6g0AAAs4XwvubwYkTQAACzB+G4zc77V0Z4AAABeodIAALAE2hPmkTQAAKyB/oRpJA0AAGswWWkQlQbmNAAAAO9QaQAAWAJ3hDSPpAEAYAlMhDSP9gQAAPAKlQYAgDUYNnOTGak0kDQAAKyBOQ3m0Z4AAABeodIAALAGbu5kGkkDAMASWD1hnldJw0svveT1BceOHXvOgwEAAE2XV0nD7NmzvbqYzWYjaQAANF20GEzxKmnIy8tr6HEAANCgaE+Yd86rJyorK7V7925VV1f7cjwAADQMwwebxdU7aSgrK9OIESMUFhamq666SgcOHJBUM5fh+eef9/kAAQBA01DvpGHSpEn68ssv9emnnyokJMS9v2/fvlq+fLlPBwcAgO/YfLBZW72XXK5cuVLLly9Xjx49ZLN9/wO88sor9c033/h0cAAA+Az3aTCt3pWGY8eOKTo6utb+0tJSjyQCAABcXOqdNHTv3l3/+Mc/3K/PJAoLFixQamqq70YGAIAvMRHStHq3J6ZPn66BAwdq165dqq6u1osvvqidO3dqw4YNWrt2bUOMEQAA83jKpWn1rjT07NlTn3/+ucrKynTZZZdp1apViomJ0YYNG5ScnNwQYwQAAE3AOT17okuXLlq0aJGvxwIAQIPh0djmnVPS4HQ6tWLFCuXm5spms6lz584aOnSoAgJ4/hUAoIli9YRp9f6W37Fjh4YOHaqCggJ16tRJkrRnzx5dcsklevfdd9WlSxefDxIAADS+es9pePDBB3XVVVfp4MGD+uKLL/TFF18oPz9fV199tUaNGtUQYwQAwLwzEyHNbBZX70rDl19+qa1bt6pFixbufS1atNC0adPUvXt3nw4OAABfsRk1m5nzra7elYZOnTrp6NGjtfYXFhaqY8eOPhkUAAA+x30aTPMqaSguLnZvmZmZGjt2rP72t7/p4MGDOnjwoP72t78pIyNDM2bMaOjxAgCARuJVe6J58+Yet4g2DEPDhg1z7zO+W4dy2223yel0NsAwAQAwiZs7meZV0vDJJ5809DgAAGhYLLk0zaukoVevXg09DgAA0MSd892YysrKdODAAVVWVnrsv/rqq00PCgAAn6PSYFq9k4Zjx47pV7/6lT788MM6jzOnAQDQJJE0mFbvJZcZGRkqKirSxo0bFRoaqqysLC1atEiJiYl69913G2KMAACgCah3peHjjz/WO++8o+7du8vPz0/t2rVTv379FBkZqenTp+vWW29tiHECAGAOqydMq3elobS0VNHR0ZKkqKgoHTt2TFLNky+/+OIL344OAAAfOXNHSDOb1Z3THSF3794tSbr22ms1f/58HTp0SK+++qpat27t8wECAICmod7tiYyMDB05ckSS9Mwzz2jAgAFasmSJgoKCtHDhQl+PDwAA32AipGn1Thruuece9//u2rWr9u3bp3//+99q27atWrVq5dPBAQCApuOc79NwRlhYmK677jpfjAUAgAZjk8mnXPpsJBcur5KGcePGeX3BWbNmnfNgAABA0+VV0rBt2zavLvbfD7U6n35xU18F+AU1ynsDDe33+1Y29hCABlNyyqUbk87Tm7Hk0jQeWAUAsAYmQppW7yWXAADAmkxPhAQA4IJApcE0kgYAgCWYvasjd4SkPQEAQIM5dOiQ7r33XrVs2VJhYWG69tprlZ2d7T5uGIamTJmiuLg4hYaGqnfv3tq5c6fHNSoqKjRmzBi1atVK4eHhGjJkiA4ePOgRU1RUpPT0dNntdtntdqWnp+vkyZM+/zwkDQAAazB8sNVDUVGRrr/+egUGBurDDz/Url279MILL6h58+bumJkzZ2rWrFmaO3eutmzZotjYWPXr10+nTp1yx2RkZGjFihVatmyZ1q1bp5KSEg0ePFhOp9Mdk5aWppycHGVlZSkrK0s5OTlKT0+v70/oJ51Te2Lx4sV69dVXlZeXpw0bNqhdu3aaM2eOEhISNHToUF+PEQAA83w0p6G4uNhjd3BwsIKDg2uFz5gxQ/Hx8XrjjTfc+9q3b//95QxDc+bM0eTJk3XnnXdKkhYtWqSYmBgtXbpUDz30kBwOh15//XUtXrxYffv2lSS9+eabio+P15o1azRgwADl5uYqKytLGzduVEpKiiRpwYIFSk1N1e7du9WpUycTH9pTvSsN8+bN07hx43TLLbfo5MmT7kynefPmmjNnjs8GBgBAUxQfH+9uA9jtdk2fPr3OuHfffVfdunXTL37xC0VHR6tr165asGCB+3heXp4KCgrUv39/977g4GD16tVL69evlyRlZ2erqqrKIyYuLk5JSUnumA0bNshut7sTBknq0aOH7Ha7O8ZX6p00vPzyy1qwYIEmT54sf39/9/5u3bpp+/btPh0cAAC+4qtHY+fn58vhcLi3SZMm1fl+3377rebNm6fExET985//1MMPP6yxY8fqL3/5iySpoKBAkhQTE+NxXkxMjPtYQUGBgoKC1KJFix+NiY6OrvX+0dHR7hhfqXd7Ii8vT127dq21Pzg4WKWlpT4ZFAAAPuejO0JGRkYqMjLyJ8NdLpe6deumzMxMSTUPedy5c6fmzZun++67zx139t2UDcP4yTssnx1TV7w316mvelcaEhISlJOTU2v/hx9+qCuvvNIXYwIAwPfO80TI1q1b1/pe7Ny5sw4cOCBJio2NlaRa1YDCwkJ39SE2NlaVlZUqKir60ZijR4/Wev9jx47VqmKYVe+k4YknntCjjz6q5cuXyzAMbd68WdOmTdNvfvMbPfHEEz4dHAAAF6rrr79eu3fv9ti3Z88etWvXTlLNH+GxsbFavXq1+3hlZaXWrl2rnj17SpKSk5MVGBjoEXPkyBHt2LHDHZOamiqHw6HNmze7YzZt2iSHw+GO8ZV6tyd+9atfqbq6WhMnTlRZWZnS0tLUpk0bvfjii7r77rt9OjgAAHzlfN/c6de//rV69uypzMxMDRs2TJs3b9Zrr72m1157reZ6NpsyMjKUmZmpxMREJSYmKjMzU2FhYUpLS5Mk2e12jRgxQuPHj1fLli0VFRWlCRMmqEuXLu7VFJ07d9bAgQM1cuRIzZ8/X5I0atQoDR482KcrJ6RzXHI5cuRIjRw5UsePH5fL5apzAgYAAE3Keb6NdPfu3bVixQpNmjRJU6dOVUJCgubMmaN77rnHHTNx4kSVl5dr9OjRKioqUkpKilatWqWIiAh3zOzZsxUQEKBhw4apvLxcffr00cKFCz0WIyxZskRjx451r7IYMmSI5s6da+LD1s1mGMYFe2PM4uJi2e129Y0dxaOxcdGavmFlYw8BaDA1j8Y+LIfD4dXkwnNx5ruiw9OZ8gsJOefruE6f1rdTf9OgY23q6l1pSEhI+NHZmN9++62pAQEA0CBMtid4YNU5JA0ZGRker6uqqrRt2zZlZWUxERIA0HTxlEvT6p00PP7443Xu/+Mf/6itW7eaHhAAAGiafPbAqkGDBuntt9/21eUAAPCt83yfhovROa2eqMvf/vY3RUVF+epyAAD41PlecnkxqnfS0LVrV4+JkIZhqKCgQMeOHdMrr7zi08EBAICmo95Jw+233+7x2s/PT5dccol69+6tK664wlfjAgAATUy9kobq6mq1b99eAwYMcN8zGwCACwKrJ0yr10TIgIAAPfLII6qoqGio8QAA0CB89WhsK6v36omUlBRt27atIcYCAACasHrPaRg9erTGjx+vgwcPKjk5WeHh4R7Hr776ap8NDgAAn6JaYIrXScMDDzygOXPm6K677pIkjR071n3MZrPJMAzZbDY5nU7fjxIAALOY02Ca10nDokWL9PzzzysvL68hxwMAAJoor5OGMw/DbNeuXYMNBgCAhsLNncyr15yGH3u6JQAATRrtCdPqlTRcfvnlP5k4nDhxwtSAAABA01SvpOHZZ5+V3W5vqLEAANBgaE+YV6+k4e6771Z0dHRDjQUAgIZDe8I0r2/uxHwGAACsrd6rJwAAuCBRaTDN66TB5XI15DgAAGhQzGkwr963kQYA4IJEpcG0ej+wCgAAWBOVBgCANVBpMI2kAQBgCcxpMI/2BAAA8AqVBgCANdCeMI2kAQBgCbQnzKM9AQAAvEKlAQBgDbQnTCNpAABYA0mDabQnAACAV6g0AAAswfbdZuZ8qyNpAABYA+0J00gaAACWwJJL85jTAAAAvEKlAQBgDbQnTCNpAABYB1/8ptCeAAAAXqHSAACwBCZCmkfSAACwBuY0mEZ7AgAAeIVKAwDAEmhPmEfSAACwBtoTptGeAAAAXqHSAACwBNoT5pE0AACsgfaEaSQNAABrIGkwjTkNAADAK1QaAACWwJwG80gaAADWQHvCNNoTAADAK1QaAACWYDMM2YxzLxeYOfdiQdIAALAG2hOm0Z4AAABeIWkAAFjCmdUTZrZzNX36dNlsNmVkZLj3GYahKVOmKC4uTqGhoerdu7d27tzpcV5FRYXGjBmjVq1aKTw8XEOGDNHBgwc9YoqKipSeni673S673a709HSdPHny3Af7I0gaAADWYPhgOwdbtmzRa6+9pquvvtpj/8yZMzVr1izNnTtXW7ZsUWxsrPr166dTp065YzIyMrRixQotW7ZM69atU0lJiQYPHiyn0+mOSUtLU05OjrKyspSVlaWcnBylp6ef22B/AkkDAAANpKSkRPfcc48WLFigFi1auPcbhqE5c+Zo8uTJuvPOO5WUlKRFixaprKxMS5culSQ5HA69/vrreuGFF9S3b1917dpVb775prZv3641a9ZIknJzc5WVlaU//elPSk1NVWpqqhYsWKD3339fu3fv9vnnIWkAAFiCr9oTxcXFHltFRcUPvuejjz6qW2+9VX379vXYn5eXp4KCAvXv39+9Lzg4WL169dL69eslSdnZ2aqqqvKIiYuLU1JSkjtmw4YNstvtSklJccf06NFDdrvdHeNLJA0AAGvwUXsiPj7ePX/Abrdr+vTpdb7dsmXLlJ2dXefxgoICSVJMTIzH/piYGPexgoICBQUFeVQo6oqJjo6udf3o6Gh3jC+x5BIAYAm+uo10fn6+IiMj3fuDg4Nrxebn5+vxxx/XqlWrFBIS8sPXtNk8XhuGUWvf2c6OqSvem+ucCyoNAADUQ2RkpMdWV9KQnZ2twsJCJScnKyAgQAEBAVq7dq1eeuklBQQEuCsMZ1cDCgsL3cdiY2NVWVmpoqKiH405evRorfc/duxYrSqGL5A0AACs4TyunujTp4+2b9+unJwc99atWzfdc889ysnJUYcOHRQbG6vVq1e7z6msrNTatWvVs2dPSVJycrICAwM9Yo4cOaIdO3a4Y1JTU+VwOLR582Z3zKZNm+RwONwxvkR7AgBgGefrSZURERFKSkry2BceHq6WLVu692dkZCgzM1OJiYlKTExUZmamwsLClJaWJkmy2+0aMWKExo8fr5YtWyoqKkoTJkxQly5d3BMrO3furIEDB2rkyJGaP3++JGnUqFEaPHiwOnXq5PPPRdIAAEAjmDhxosrLyzV69GgVFRUpJSVFq1atUkREhDtm9uzZCggI0LBhw1ReXq4+ffpo4cKF8vf3d8csWbJEY8eOda+yGDJkiObOndsgY7YZxoX7BI7i4mLZ7Xb1jR2lAL+gxh4O0CCmb1jZ2EMAGkzJKZduTDosh8PhMbnQl858VyT/4ncKCPzhSYk/pbrqtLL/77cNOtamjkoDAMASfLV6wsqYCAkAALxCpQEAYA08Gts0kgYAgCXYXDWbmfOtjvYEAADwCpUGi7mq6wn9z3371LFzsVpeUqHnxl+rjZ/Wfdewx36zU4P+56Be+0MnvfPX9u79LVpW6IHHd6tryn8UGu7Uwf1heuvPHfT5R7Ee53e/4Zh+OfIbte94SqdP+2vnFy007YmuDfnxYEHfborQp6/F6dD2cBUXBmn4/N1KGvD9HfS2Z7XQxiUxOrgjXGVFgcr4x1dqc1WZxzWqK2x6P7Odtr3bUlWn/ZR4vUN3PLdPzVtXumM+mhun3I9b6PCuMPkHGnpu+9YfHFNpUYBmD+oiR0Gwpn65RaF25w/G4jyiPWEalQaLCQl1Km9PhF6d0flH43r0PqpOSQ4dL6x9e9TxU7erTbtSTR3XVY/e1VPrP47Rk9O/VIdOxe6Ynj8v0PipX2n1u2302C976okHUvRpVmuffx6gssxfcZ1LdfvUvB883r7bKd3y5IEfvMY7U9trxz9b6J6Xv9aj/7dTFaX++vMDneT6r+/66ko/XX3Lf5R6b+1b9p7t/yZ2UOsryn4yDueXr55yaWWNmjR89tlnuu222xQXFyebzaaVK1c25nAsIXv9JVo8L1HrP/nhe5K3vOS0HpmYq9//9mo5q2s/8OSKq0/qveXttGdncxUcCtPy1y9T6alAdbyiJmnw83fpoQn/1p9f7KQP347X4QPhOrQ/vFYlAvCFK24+qYETDqrLwKI6jyffeVz9Hj+kxOuL6zxeXuyvLW9dosGTD+jyG4rVJqlMv5yzVwW7w/T1Ors7bsC4g7rpwQLFdir/0fGsXxyj8uIA9Rp15Nw/FBqGYZjfLK5Rk4bS0lJdc801DXbnKtSfzWZo/HPb9fbiBB34tlmdMbtymuum/gVqFlkpm83QTf2PKDDIpa+yoyRJHa8oVquYCrlcNr20ZL0W//MTPftSttp2KDmfHwXwyqEd4XJW+enym06699ljqhR7eZn2ZUf88Il1OPp1qNa81EZ3z9qrBnjAINDoGnVOw6BBgzRo0CCv4ysqKlRRUeF+XVxc918OOHf/7/48OZ02vfvXtj8Y8/yka/S/07/U8k8+UXW1TRWn/fW7Cdeq4GCYJCm2Tc1fYvc8tFcLZnVS4eFQ3ZG+T88v2KxRd9ygkmLu3omm49SxQPkHuRR21ryDZpdU6dSxQK+vU11h05IxHXXrbw6oRZtKnThw7nceRMPg5k7mXVBzGqZPny673e7e4uPjG3tIF5WOVzg09O79mv1MkqQf/jPpvkf2qllktX7zcDdl3NtDK95sp0kzvlS7jqckSTa/mv9nLX+9g9Z/HKu9/7Zr9pQukiHd0Pen+8FAk2CoXtWCD2a2VXTHciXfcbzhxgRzzuNTLi9WF9TqiUmTJmncuHHu18XFxSQOPnRV1yLZoyq18B+fuff5Bxga8evdGpq2Xw/c1kuxl5bptrsP6JFfXO9uX+R9HamkrkUa/IsD+uP0q1R0vGby5IG879sb1VV+KjgUpujY0+f3QwE/IeKSKjkr/VTm8PeoNpQcD1S767xvqe1dH6mC3WF68rKWkr5vf0+5rpt+/ughDRh30KfjBhrDBZU0BAcHKzi49mx++MbHH8QpZ3NLj31T52brkw/itPrdNpKk4JCaf1SNs25y4nTZ5Pdd3errXLsqK/x0abtS7cppIUnyD3ApunW5Co9QskXT0iapVP6BLn39L7uuGXxCklRcGKiCPWG6ddIPr7g4232v7lH16e+Lt/lfNtNbEy/TI2/tVKt2JMtNAe0J8y6opAHmhYRWKy7++6VgsXHl6nB5sU4VB+pYQahOOTznGzirbSo6HqRD+8MlSQf3hevQgTA9NnmXXp9zuYodQUrtXaiuKf/RsxnXSZLKSwP0wduX6p6H9urY0RAVHgnV/9xXsxxu3RpWUMC3Kkr9dHzf98noifxgHdoZprDm1WrRplJlJ/1VdChYxYU1v9vHvg2VVFNhiIyuUmikU92HHdN709oprEW1wuzVej+znWI7lSnxBof7ukWHglR2MkAnDwfJcNl0aGfNHJ5W7U8rONylVu0q9N9KT9TMh4jpWM59GpoKsysgWD1B0mA1iVcW6/nXtrhfjxy/W5K05r24mnkHP8FZ7acpY6/T/WP26OnZ2xQa5tTh/FDNeqaLtn5+iTvuzy92ksvpp/FTtys42KndO5rrNw93V8kp7yeWAd44+FUzvfrLK92v3/tde0lS8v8c090vfKOdq6P01hOXuY8vGZMoSer3+EH1/3VNy2DIU/vkH9BObz6aqKrTfup4fbEe+MNu+fl//z7/nBWv7Le//x2fc+vVkqSH/7pLl6UyKRvWYDOMxkudSkpKtHfvXklS165dNWvWLN18882KiopS27Y/PHv/jDPPSO8bO0oBfszIx8Vp+oaVjT0EoMGUnHLpxqTDcjgcioyMbJD3OPNdkTpoqgICz71FWl11Whs+fLpBx9rUNWqlYevWrbr55pvdr89Mchw+fLgWLlzYSKMCAFyUuI20aY2aNPTu3VuNWOgAAAD1wJwGAIAlsHrCPJIGAIA1uIyazcz5FkfSAACwBuY0mHZB3UYaAAA0HioNAABLsMnknAafjeTCRdIAALAG7ghpGu0JAADgFSoNAABLYMmleSQNAABrYPWEabQnAACAV6g0AAAswWYYspmYzGjm3IsFSQMAwBpc321mzrc42hMAAMArVBoAAJZAe8I8kgYAgDWwesI0kgYAgDVwR0jTmNMAAAC8QqUBAGAJ3BHSPJIGAIA10J4wjfYEAADwCpUGAIAl2Fw1m5nzrY6kAQBgDbQnTKM9AQAAvEKlAQBgDdzcyTSSBgCAJXAbafNoTwAAAK9QaQAAWAMTIU0jaQAAWIMhycyySXIGkgYAgDUwp8E85jQAAACvUGkAAFiDIZNzGnw2kgsWSQMAwBqYCGka7QkAAOAVKg0AAGtwSbKZPN/iSBoAAJbA6gnzaE8AAACvUGkAAFgDEyFNI2kAAFgDSYNptCcAAGgA06dPV/fu3RUREaHo6Gjdfvvt2r17t0eMYRiaMmWK4uLiFBoaqt69e2vnzp0eMRUVFRozZoxatWql8PBwDRkyRAcPHvSIKSoqUnp6uux2u+x2u9LT03Xy5EmffyaSBgCANZypNJjZ6mHt2rV69NFHtXHjRq1evVrV1dXq37+/SktL3TEzZ87UrFmzNHfuXG3ZskWxsbHq16+fTp065Y7JyMjQihUrtGzZMq1bt04lJSUaPHiwnE6nOyYtLU05OTnKyspSVlaWcnJylJ6ebv5ndhbaEwAAa/DRksvi4mKP3cHBwQoODq4VnpWV5fH6jTfeUHR0tLKzs3XTTTfJMAzNmTNHkydP1p133ilJWrRokWJiYrR06VI99NBDcjgcev3117V48WL17dtXkvTmm28qPj5ea9as0YABA5Sbm6usrCxt3LhRKSkpkqQFCxYoNTVVu3fvVqdOnUx8aE9UGgAAlnBmyaWZTZLi4+PdbQC73a7p06d79f4Oh0OSFBUVJUnKy8tTQUGB+vfv744JDg5Wr169tH79eklSdna2qqqqPGLi4uKUlJTkjtmwYYPsdrs7YZCkHj16yG63u2N8hUoDAAD1kJ+fr8jISPfruqoMZzMMQ+PGjdMNN9ygpKQkSVJBQYEkKSYmxiM2JiZG+/fvd8cEBQWpRYsWtWLOnF9QUKDo6Oha7xkdHe2O8RWSBgCANfho9URkZKRH0uCNxx57TF999ZXWrVtX65jN5tkzMQyj1r7aQ/GMqSvem+vUF+0JAIA1uAzz2zkYM2aM3n33XX3yySe69NJL3ftjY2MlqVY1oLCw0F19iI2NVWVlpYqKin405ujRo7Xe99ixY7WqGGaRNAAA0AAMw9Bjjz2mv//97/r444+VkJDgcTwhIUGxsbFavXq1e19lZaXWrl2rnj17SpKSk5MVGBjoEXPkyBHt2LHDHZOamiqHw6HNmze7YzZt2iSHw+GO8RXaEwAAazjPN3d69NFHtXTpUr3zzjuKiIhwVxTsdrtCQ0Nls9mUkZGhzMxMJSYmKjExUZmZmQoLC1NaWpo7dsSIERo/frxatmypqKgoTZgwQV26dHGvpujcubMGDhyokSNHav78+ZKkUaNGafDgwT5dOSGRNAAALMNk0qD6nTtv3jxJUu/evT32v/HGG7r//vslSRMnTlR5eblGjx6toqIipaSkaNWqVYqIiHDHz549WwEBARo2bJjKy8vVp08fLVy4UP7+/u6YJUuWaOzYse5VFkOGDNHcuXPP4TP+OJthXLj3xSwuLpbdblff2FEK8Atq7OEADWL6hpWNPQSgwZSccunGpMNyOBz1nlzoLfd3RYexCvD76ZUOP6TaVaE1377UoGNt6qg0AACsgWdPmEbSAACwBpeh+rYYap9vbayeAAAAXqHSAACwBsNVs5k53+JIGgAA1sCcBtNIGgAA1sCcBtOY0wAAALxCpQEAYA20J0wjaQAAWIMhk0mDz0ZywaI9AQAAvEKlAQBgDbQnTCNpAABYg8slycS9Flzcp4H2BAAA8AqVBgCANdCeMI2kAQBgDSQNptGeAAAAXqHSAACwBm4jbRpJAwDAEgzDJcPEkyrNnHuxIGkAAFiDYZirFjCngTkNAADAO1QaAADWYJic00ClgaQBAGARLpdkMzEvgTkNtCcAAIB3qDQAAKyB9oRpJA0AAEswXC4ZJtoTLLmkPQEAALxEpQEAYA20J0wjaQAAWIPLkGwkDWbQngAAAF6h0gAAsAbDkGTmPg1UGkgaAACWYLgMGSbaEwZJA0kDAMAiDJfMVRpYcsmcBgAA4BUqDQAAS6A9YR5JAwDAGmhPmHZBJw1nsr5qV2UjjwRoOCWn+IcKF6/Skprf7/PxV3y1qkzd26laVb4bzAXKZlzA9ZaDBw8qPj6+sYcBADApPz9fl156aYNc+/Tp00pISFBBQYHpa8XGxiovL08hISE+GNmF54JOGlwulw4fPqyIiAjZbLbGHo4lFBcXKz4+Xvn5+YqMjGzs4QA+xe/3+WcYhk6dOqW4uDj5+TXc3PzTp0+rstJ8VTooKMiyCYN0gbcn/Pz8GiwzxY+LjIzkH1VctPj9Pr/sdnuDv0dISIilv+x9hSWXAADAKyQNAADAKyQNqJfg4GA988wzCg4ObuyhAD7H7zfw4y7oiZAAAOD8odIAAAC8QtIAAAC8QtIAAAC8QtIAAAC8QtIAr73yyitKSEhQSEiIkpOT9a9//auxhwT4xGeffabbbrtNcXFxstlsWrlyZWMPCWiSSBrgleXLlysjI0OTJ0/Wtm3bdOONN2rQoEE6cOBAYw8NMK20tFTXXHON5s6d29hDAZo0llzCKykpKbruuus0b948977OnTvr9ttv1/Tp0xtxZIBv2Ww2rVixQrfffntjDwVocqg04CdVVlYqOztb/fv399jfv39/rV+/vpFGBQA430ga8JOOHz8up9OpmJgYj/0xMTE+edQsAODCQNIAr539+HHDMHgkOQBYCEkDflKrVq3k7+9fq6pQWFhYq/oAALh4kTTgJwUFBSk5OVmrV6/22L969Wr17NmzkUYFADjfAhp7ALgwjBs3Tunp6erWrZtSU1P12muv6cCBA3r44Ycbe2iAaSUlJdq7d6/7dV5ennJychQVFaW2bds24siApoUll/DaK6+8opkzZ+rIkSNKSkrS7NmzddNNNzX2sADTPv30U91888219g8fPlwLFy48/wMCmiiSBgAA4BXmNAAAAK+QNAAAAK+QNAAAAK+QNAAAAK+QNAAAAK+QNAAAAK+QNAAAAK+QNAAAAK+QNAAmTZkyRddee6379f3336/bb7/9vI9j3759stlsysnJ+cGY9u3ba86cOV5fc+HChWrevLnpsdlsNq1cudL0dQA0LpIGXJTuv/9+2Ww22Ww2BQYGqkOHDpowYYJKS0sb/L1ffPFFr2897M0XPQA0FTywChetgQMH6o033lBVVZX+9a9/6cEHH1RpaanmzZtXK7aqqkqBgYE+eV+73e6T6wBAU0OlARet4OBgxcbGKj4+XmlpabrnnnvcJfIzLYU///nP6tChg4KDg2UYhhwOh0aNGqXo6GhFRkbq5z//ub788kuP6z7//POKiYlRRESERowYodOnT3scP7s94XK5NGPGDHXs2FHBwcFq27atpk2bJklKSEiQJHXt2lU2m029e/d2n/fGG2+oc+fOCgkJ0RVXXKFXXnnF4302b96srl27KiQkRN26ddO2bdvq/TOaNWuWunTpovDwcMXHx2v06NEqKSmpFbdy5UpdfvnlCgkJUb9+/ZSfn+9x/L333lNycrJCQkLUoUMHPfvss6qurq73eAA0bSQNsIzQ0FBVVVW5X+/du1dvvfWW3n77bXd74NZbb1VBQYE++OADZWdn67rrrlOfPn104sQJSdJbb72lZ555RtOmTdPWrVvVunXrWl/mZ5s0aZJmzJihp556Srt27dLSpUsVExMjqeaLX5LWrFmjI0eO6O9//7skacGCBZo8ebKmTZum3NxcZWZm6qmnntKiRYskSaWlpRo8eLA6deqk7OxsTZkyRRMmTKj3z8TPz08vvfSSduzYoUWLFunjjz/WxIkTPWLKyso0bdo0LVq0SJ9//rmKi4t19913u4//85//1L333quxY8dq165dmj9/vhYuXOhOjABcRAzgIjR8+HBj6NCh7tebNm0yWrZsaQwbNswwDMN45plnjMDAQKOwsNAd89FHHxmRkZHG6dOnPa512WWXGfPnzzcMwzBSU1ONhx9+2ON4SkqKcc0119T53sXFxUZwcLCxYMGCOseZl5dnSDK2bdvmsT8+Pt5YunSpx77nnnvOSE1NNQzDMObPn29ERUUZpaWl7uPz5s2r81r/rV27dsbs2bN/8Phbb71ltGzZ0v36jTfeMCQZGzdudO/Lzc01JBmbNm0yDMMwbrzxRiMzM9PjOosXLzZat27tfi3JWLFixQ++L4ALA3MacNF6//331axZM1VXV6uqqkpDhw7Vyy+/7D7erl07XXLJJe7X2dnZKikpUcuWLT2uU15erm+++UaSlJubq4cfftjjeGpqqj755JM6x5Cbm6uKigr16dPH63EfO3ZM+fn5GjFihEaOHOneX11d7Z4vkZubq2uuuUZhYWEe46ivTz75RJmZmdq1a5eKi4tVXV2t06dPq7S0VOHh4ZKkgIAAdevWzX3OFVdcoebNmys3N1c/+9nPlJ2drS1btnhUFpxOp06fPq2ysjKPMQK4sJE04KJ18803a968eQoMDFRcXFytiY5nvhTPcLlcat26tT799NNa1zrXZYehoaH1PsflckmqaVGkpKR4HPP395ckGYZxTuP5b/v379ctt9yihx9+WM8995yioqK0bt06jRgxwqONI9UsmTzbmX0ul0vPPvus7rzzzloxISEhpscJoOkgacBFKzw8XB07dvQ6/rrrrlNBQYECAgLUvn37OmM6d+6sjRs36r777nPv27hx4w9eMzExUaGhofroo4/04IMP1joeFBQkqeYv8zNiYmLUpk0bffvtt7rnnnvqvO6VV16pxYsXq7y83J2Y/Ng46rJ161ZVV1frhRdekJ9fzfSmt956q1ZcdXW1tm7dqp/97GeSpN27d+vkyZO64oorJNX83Hbv3l2vnzWACxNJA/Cdvn37KjU1VbfffrtmzJihTp066fDhw/rggw90++23q1u3bnr88cc1fPhwdevWTTfccIOWLFminTt3qkOHDnVeMyQkRE8++aQmTpyooKAgXX/99Tp27Jh27typESNGKDo6WqGhocrKytKll16qkJAQ2e12TZkyRWPHjlVkZKQGDRqkiooKbd26VUVFRRo3bpzS0tI0efJkjRgxQr/97W+1b98+/eEPf6jX573ssstUXV2tl19+Wbfddps+//xzvfrqq7XiAgMDNWbMGL300ksKDAzUY489ph49eriTiKefflqDBw9WfHy8fvGLX8jPz09fffWVtm/frt/97nf1/w8BoMli9QTwHZvNpg8++EA33XSTHnjgAV1++eW6++67tW/fPvdqh7vuuktPP/20nnzySSUnJ2v//v165JFHfvS6Tz31lMaPH6+nn35anTt31l133aXCwkJJNfMFXnrpJc2fP19xcXEaOnSoJOnBBx/Un/70Jy1cuFBdunRRr169tHDhQvcSzWbNmum9997Trl271LVrV02ePFkzZsyo1+e99tprNWvWLM2YMUNJSUlasmSJpk+fXisuLCxMTz75pNLS0pSamqrQ0FAtW7bMfXzAgAF6//33tXr1anXv3l09evTQrFmz1K5du3qNB0DTZzN80RwFAAAXPSoNAADAKyQNAADAKyQNAADAKyQNAADAKyQNAADAKyQNAADAKyQNAADAKyQNAADAKyQNAADAKyQNAADAKyQNAADAK/8fPIfStnOzRy0AAAAASUVORK5CYII=\n",
      "text/plain": [
       "<Figure size 640x480 with 2 Axes>"
      ]
     },
     "metadata": {},
     "output_type": "display_data"
    }
   ],
   "source": [
    "prediction(train_dataset,'text')"
   ]
  },
  {
   "cell_type": "code",
   "execution_count": 29,
   "metadata": {},
   "outputs": [
    {
     "name": "stdout",
     "output_type": "stream",
     "text": [
      "Accuracy is 0.81728\n",
      "Accuracy is 0.91284\n"
     ]
    }
   ],
   "source": [
    "pred = text_pip.predict(test_dataset['text'])\n",
    "pred_train = text_pip.predict(train_dataset['text'])\n",
    "print('Accuracy is ' + str(np.mean(pred == test_dataset.label)))\n",
    "print('Accuracy is ' + str(np.mean(pred_train == train_dataset.label)))"
   ]
  },
  {
   "cell_type": "markdown",
   "metadata": {},
   "source": [
    "## Why is accuracy a sufficient measure of evaluation here?\n",
    "#### L'accuracy est une bonne mesure dans notre cas puisque notre dataset est bien balance. Chaque type de label possede un nobre similaire de donnée permettant une meilleur representation"
   ]
  },
  {
   "cell_type": "code",
   "execution_count": null,
   "metadata": {},
   "outputs": [],
   "source": [
    "# Mo non classifies"
   ]
  },
  {
   "cell_type": "markdown",
   "metadata": {
    "tags": []
   },
   "source": [
    "## Mots les plus important"
   ]
  },
  {
   "cell_type": "code",
   "execution_count": 54,
   "metadata": {},
   "outputs": [
    {
     "name": "stdout",
     "output_type": "stream",
     "text": [
      "the\n",
      "and\n",
      "of\n",
      "to\n",
      "is\n",
      "in\n",
      "this\n",
      "it\n",
      "that\n",
      "br\n"
     ]
    },
    {
     "name": "stderr",
     "output_type": "stream",
     "text": [
      "C:\\Users\\PION\\anaconda3\\envs\\PYTORCH\\lib\\site-packages\\sklearn\\utils\\deprecation.py:87: FutureWarning: Function get_feature_names is deprecated; get_feature_names is deprecated in 1.0 and will be removed in 1.2. Please use get_feature_names_out instead.\n",
      "  warnings.warn(msg, category=FutureWarning)\n"
     ]
    }
   ],
   "source": [
    "from heapq import nlargest\n",
    "def most_important_word():\n",
    "    wordscount = text_pip[0].get_feature_names()\n",
    "    importance = text_pip[1].feature_log_prob_\n",
    "    k=10\n",
    "    nmax = nlargest(k, enumerate(importance[0]), key=lambda x:x[1])\n",
    "    i=0\n",
    "    while i < k:\n",
    "        print(wordscount[nmax[i][0]])\n",
    "        i = i+1\n",
    "most_important_word()"
   ]
  },
  {
   "cell_type": "markdown",
   "metadata": {},
   "source": [
    "We can clearly see that the stop word are the most important word. That's clearly a problem so to resolve this we will remove them"
   ]
  },
  {
   "cell_type": "markdown",
   "metadata": {},
   "source": [
    "## Remooving of the stops words"
   ]
  },
  {
   "cell_type": "code",
   "execution_count": 25,
   "metadata": {},
   "outputs": [],
   "source": [
    "#Some library used\n",
    "import nltk\n",
    "from nltk.tokenize import sent_tokenize, word_tokenize\n",
    "from nltk.corpus import stopwords"
   ]
  },
  {
   "cell_type": "code",
   "execution_count": 34,
   "metadata": {},
   "outputs": [],
   "source": [
    "stops = set(stopwords.words('english'))"
   ]
  },
  {
   "cell_type": "code",
   "execution_count": 35,
   "metadata": {},
   "outputs": [
    {
     "data": {
      "text/html": [
       "<div>\n",
       "<style scoped>\n",
       "    .dataframe tbody tr th:only-of-type {\n",
       "        vertical-align: middle;\n",
       "    }\n",
       "\n",
       "    .dataframe tbody tr th {\n",
       "        vertical-align: top;\n",
       "    }\n",
       "\n",
       "    .dataframe thead th {\n",
       "        text-align: right;\n",
       "    }\n",
       "</style>\n",
       "<table border=\"1\" class=\"dataframe\">\n",
       "  <thead>\n",
       "    <tr style=\"text-align: right;\">\n",
       "      <th></th>\n",
       "      <th>text</th>\n",
       "      <th>label</th>\n",
       "      <th>text_no_stop</th>\n",
       "    </tr>\n",
       "  </thead>\n",
       "  <tbody>\n",
       "    <tr>\n",
       "      <th>0</th>\n",
       "      <td>bromwell high is a cartoon comedy it ran at th...</td>\n",
       "      <td>1</td>\n",
       "      <td>bromwell high cartoon comedy ran time programs...</td>\n",
       "    </tr>\n",
       "    <tr>\n",
       "      <th>1</th>\n",
       "      <td>homelessness or houselessness as george carlin...</td>\n",
       "      <td>1</td>\n",
       "      <td>homelessness houselessness george carlin state...</td>\n",
       "    </tr>\n",
       "    <tr>\n",
       "      <th>2</th>\n",
       "      <td>brilliant overacting by lesley ann warren best...</td>\n",
       "      <td>1</td>\n",
       "      <td>brilliant overacting lesley ann warren best dr...</td>\n",
       "    </tr>\n",
       "    <tr>\n",
       "      <th>3</th>\n",
       "      <td>this is easily the most underrated film inn th...</td>\n",
       "      <td>1</td>\n",
       "      <td>easily underrated film inn brooks cannon sure ...</td>\n",
       "    </tr>\n",
       "    <tr>\n",
       "      <th>4</th>\n",
       "      <td>this is not the typical mel brooks film it was...</td>\n",
       "      <td>1</td>\n",
       "      <td>typical mel brooks film much less slapstick mo...</td>\n",
       "    </tr>\n",
       "    <tr>\n",
       "      <th>...</th>\n",
       "      <td>...</td>\n",
       "      <td>...</td>\n",
       "      <td>...</td>\n",
       "    </tr>\n",
       "    <tr>\n",
       "      <th>24995</th>\n",
       "      <td>towards the end of the movie i felt it was too...</td>\n",
       "      <td>0</td>\n",
       "      <td>towards end movie felt technical felt like cla...</td>\n",
       "    </tr>\n",
       "    <tr>\n",
       "      <th>24996</th>\n",
       "      <td>this is the kind of movie that my enemies cont...</td>\n",
       "      <td>0</td>\n",
       "      <td>kind movie enemies content watch time bloody t...</td>\n",
       "    </tr>\n",
       "    <tr>\n",
       "      <th>24997</th>\n",
       "      <td>i saw descent last night at the stockholm film...</td>\n",
       "      <td>0</td>\n",
       "      <td>saw descent last night stockholm film festival...</td>\n",
       "    </tr>\n",
       "    <tr>\n",
       "      <th>24998</th>\n",
       "      <td>some films that you pick up for a pound turn o...</td>\n",
       "      <td>0</td>\n",
       "      <td>films pick pound turn rather good 23rd century...</td>\n",
       "    </tr>\n",
       "    <tr>\n",
       "      <th>24999</th>\n",
       "      <td>this is one of the dumbest films ive ever seen...</td>\n",
       "      <td>0</td>\n",
       "      <td>one dumbest films ive ever seen rips nearly ev...</td>\n",
       "    </tr>\n",
       "  </tbody>\n",
       "</table>\n",
       "<p>25000 rows × 3 columns</p>\n",
       "</div>"
      ],
      "text/plain": [
       "                                                    text  label  \\\n",
       "0      bromwell high is a cartoon comedy it ran at th...      1   \n",
       "1      homelessness or houselessness as george carlin...      1   \n",
       "2      brilliant overacting by lesley ann warren best...      1   \n",
       "3      this is easily the most underrated film inn th...      1   \n",
       "4      this is not the typical mel brooks film it was...      1   \n",
       "...                                                  ...    ...   \n",
       "24995  towards the end of the movie i felt it was too...      0   \n",
       "24996  this is the kind of movie that my enemies cont...      0   \n",
       "24997  i saw descent last night at the stockholm film...      0   \n",
       "24998  some films that you pick up for a pound turn o...      0   \n",
       "24999  this is one of the dumbest films ive ever seen...      0   \n",
       "\n",
       "                                            text_no_stop  \n",
       "0      bromwell high cartoon comedy ran time programs...  \n",
       "1      homelessness houselessness george carlin state...  \n",
       "2      brilliant overacting lesley ann warren best dr...  \n",
       "3      easily underrated film inn brooks cannon sure ...  \n",
       "4      typical mel brooks film much less slapstick mo...  \n",
       "...                                                  ...  \n",
       "24995  towards end movie felt technical felt like cla...  \n",
       "24996  kind movie enemies content watch time bloody t...  \n",
       "24997  saw descent last night stockholm film festival...  \n",
       "24998  films pick pound turn rather good 23rd century...  \n",
       "24999  one dumbest films ive ever seen rips nearly ev...  \n",
       "\n",
       "[25000 rows x 3 columns]"
      ]
     },
     "execution_count": 35,
     "metadata": {},
     "output_type": "execute_result"
    }
   ],
   "source": [
    "train_dataset['text_no_stop'] = train_dataset['text'].apply(lambda x: ' '.join([word for word in x.split() if word not in (stops)]))\n",
    "test_dataset['text_no_stop'] = test_dataset['text'].apply(lambda x: ' '.join([word for word in x.split() if word not in (stops)]))\n",
    "train_dataset"
   ]
  },
  {
   "cell_type": "code",
   "execution_count": 44,
   "metadata": {},
   "outputs": [
    {
     "name": "stderr",
     "output_type": "stream",
     "text": [
      "C:\\Users\\PION\\anaconda3\\envs\\PYTORCH\\lib\\site-packages\\sklearn\\utils\\deprecation.py:87: FutureWarning: Function plot_confusion_matrix is deprecated; Function `plot_confusion_matrix` is deprecated in 1.0 and will be removed in 1.2. Use one of the class methods: ConfusionMatrixDisplay.from_predictions or ConfusionMatrixDisplay.from_estimator.\n",
      "  warnings.warn(msg, category=FutureWarning)\n"
     ]
    },
    {
     "data": {
      "image/png": "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\n",
      "text/plain": [
       "<Figure size 640x480 with 2 Axes>"
      ]
     },
     "metadata": {},
     "output_type": "display_data"
    }
   ],
   "source": [
    "prediction(test_dataset,'text_no_stop')"
   ]
  },
  {
   "cell_type": "code",
   "execution_count": null,
   "metadata": {},
   "outputs": [
    {
     "name": "stdout",
     "output_type": "stream",
     "text": [
      "Accuracy is 0.8284\n"
     ]
    }
   ],
   "source": [
    "pred = text_pip.predict(test_dataset['text'])\n",
    "pred_train = text_pip.predict(train_dataset['text'])\n",
    "print('Accuracy is ' + str(np.mean(pred == test_dataset.label)))"
   ]
  },
  {
   "cell_type": "code",
   "execution_count": 55,
   "metadata": {},
   "outputs": [
    {
     "data": {
      "text/html": [
       "<style>#sk-container-id-4 {color: black;background-color: white;}#sk-container-id-4 pre{padding: 0;}#sk-container-id-4 div.sk-toggleable {background-color: white;}#sk-container-id-4 label.sk-toggleable__label {cursor: pointer;display: block;width: 100%;margin-bottom: 0;padding: 0.3em;box-sizing: border-box;text-align: center;}#sk-container-id-4 label.sk-toggleable__label-arrow:before {content: \"▸\";float: left;margin-right: 0.25em;color: #696969;}#sk-container-id-4 label.sk-toggleable__label-arrow:hover:before {color: black;}#sk-container-id-4 div.sk-estimator:hover label.sk-toggleable__label-arrow:before {color: black;}#sk-container-id-4 div.sk-toggleable__content {max-height: 0;max-width: 0;overflow: hidden;text-align: left;background-color: #f0f8ff;}#sk-container-id-4 div.sk-toggleable__content pre {margin: 0.2em;color: black;border-radius: 0.25em;background-color: #f0f8ff;}#sk-container-id-4 input.sk-toggleable__control:checked~div.sk-toggleable__content {max-height: 200px;max-width: 100%;overflow: auto;}#sk-container-id-4 input.sk-toggleable__control:checked~label.sk-toggleable__label-arrow:before {content: \"▾\";}#sk-container-id-4 div.sk-estimator input.sk-toggleable__control:checked~label.sk-toggleable__label {background-color: #d4ebff;}#sk-container-id-4 div.sk-label input.sk-toggleable__control:checked~label.sk-toggleable__label {background-color: #d4ebff;}#sk-container-id-4 input.sk-hidden--visually {border: 0;clip: rect(1px 1px 1px 1px);clip: rect(1px, 1px, 1px, 1px);height: 1px;margin: -1px;overflow: hidden;padding: 0;position: absolute;width: 1px;}#sk-container-id-4 div.sk-estimator {font-family: monospace;background-color: #f0f8ff;border: 1px dotted black;border-radius: 0.25em;box-sizing: border-box;margin-bottom: 0.5em;}#sk-container-id-4 div.sk-estimator:hover {background-color: #d4ebff;}#sk-container-id-4 div.sk-parallel-item::after {content: \"\";width: 100%;border-bottom: 1px solid gray;flex-grow: 1;}#sk-container-id-4 div.sk-label:hover label.sk-toggleable__label {background-color: #d4ebff;}#sk-container-id-4 div.sk-serial::before {content: \"\";position: absolute;border-left: 1px solid gray;box-sizing: border-box;top: 0;bottom: 0;left: 50%;z-index: 0;}#sk-container-id-4 div.sk-serial {display: flex;flex-direction: column;align-items: center;background-color: white;padding-right: 0.2em;padding-left: 0.2em;position: relative;}#sk-container-id-4 div.sk-item {position: relative;z-index: 1;}#sk-container-id-4 div.sk-parallel {display: flex;align-items: stretch;justify-content: center;background-color: white;position: relative;}#sk-container-id-4 div.sk-item::before, #sk-container-id-4 div.sk-parallel-item::before {content: \"\";position: absolute;border-left: 1px solid gray;box-sizing: border-box;top: 0;bottom: 0;left: 50%;z-index: -1;}#sk-container-id-4 div.sk-parallel-item {display: flex;flex-direction: column;z-index: 1;position: relative;background-color: white;}#sk-container-id-4 div.sk-parallel-item:first-child::after {align-self: flex-end;width: 50%;}#sk-container-id-4 div.sk-parallel-item:last-child::after {align-self: flex-start;width: 50%;}#sk-container-id-4 div.sk-parallel-item:only-child::after {width: 0;}#sk-container-id-4 div.sk-dashed-wrapped {border: 1px dashed gray;margin: 0 0.4em 0.5em 0.4em;box-sizing: border-box;padding-bottom: 0.4em;background-color: white;}#sk-container-id-4 div.sk-label label {font-family: monospace;font-weight: bold;display: inline-block;line-height: 1.2em;}#sk-container-id-4 div.sk-label-container {text-align: center;}#sk-container-id-4 div.sk-container {/* jupyter's `normalize.less` sets `[hidden] { display: none; }` but bootstrap.min.css set `[hidden] { display: none !important; }` so we also need the `!important` here to be able to override the default hidden behavior on the sphinx rendered scikit-learn.org. See: https://github.com/scikit-learn/scikit-learn/issues/21755 */display: inline-block !important;position: relative;}#sk-container-id-4 div.sk-text-repr-fallback {display: none;}</style><div id=\"sk-container-id-4\" class=\"sk-top-container\"><div class=\"sk-text-repr-fallback\"><pre>Pipeline(steps=[(&#x27;vect&#x27;, CountVectorizer()), (&#x27;clf&#x27;, MultinomialNB())])</pre><b>In a Jupyter environment, please rerun this cell to show the HTML representation or trust the notebook. <br />On GitHub, the HTML representation is unable to render, please try loading this page with nbviewer.org.</b></div><div class=\"sk-container\" hidden><div class=\"sk-item sk-dashed-wrapped\"><div class=\"sk-label-container\"><div class=\"sk-label sk-toggleable\"><input class=\"sk-toggleable__control sk-hidden--visually\" id=\"sk-estimator-id-10\" type=\"checkbox\" ><label for=\"sk-estimator-id-10\" class=\"sk-toggleable__label sk-toggleable__label-arrow\">Pipeline</label><div class=\"sk-toggleable__content\"><pre>Pipeline(steps=[(&#x27;vect&#x27;, CountVectorizer()), (&#x27;clf&#x27;, MultinomialNB())])</pre></div></div></div><div class=\"sk-serial\"><div class=\"sk-item\"><div class=\"sk-estimator sk-toggleable\"><input class=\"sk-toggleable__control sk-hidden--visually\" id=\"sk-estimator-id-11\" type=\"checkbox\" ><label for=\"sk-estimator-id-11\" class=\"sk-toggleable__label sk-toggleable__label-arrow\">CountVectorizer</label><div class=\"sk-toggleable__content\"><pre>CountVectorizer()</pre></div></div></div><div class=\"sk-item\"><div class=\"sk-estimator sk-toggleable\"><input class=\"sk-toggleable__control sk-hidden--visually\" id=\"sk-estimator-id-12\" type=\"checkbox\" ><label for=\"sk-estimator-id-12\" class=\"sk-toggleable__label sk-toggleable__label-arrow\">MultinomialNB</label><div class=\"sk-toggleable__content\"><pre>MultinomialNB()</pre></div></div></div></div></div></div></div>"
      ],
      "text/plain": [
       "Pipeline(steps=[('vect', CountVectorizer()), ('clf', MultinomialNB())])"
      ]
     },
     "execution_count": 55,
     "metadata": {},
     "output_type": "execute_result"
    }
   ],
   "source": [
    "text_pip.fit(train_dataset['text_no_stop'],train_dataset['label'])"
   ]
  },
  {
   "cell_type": "code",
   "execution_count": 56,
   "metadata": {},
   "outputs": [
    {
     "name": "stdout",
     "output_type": "stream",
     "text": [
      "br\n",
      "movie\n",
      "film\n",
      "one\n",
      "like\n",
      "even\n",
      "good\n",
      "bad\n",
      "would\n",
      "really\n"
     ]
    },
    {
     "name": "stderr",
     "output_type": "stream",
     "text": [
      "C:\\Users\\PION\\anaconda3\\envs\\PYTORCH\\lib\\site-packages\\sklearn\\utils\\deprecation.py:87: FutureWarning: Function get_feature_names is deprecated; get_feature_names is deprecated in 1.0 and will be removed in 1.2. Please use get_feature_names_out instead.\n",
      "  warnings.warn(msg, category=FutureWarning)\n"
     ]
    }
   ],
   "source": [
    "most_important_word()"
   ]
  },
  {
   "cell_type": "markdown",
   "metadata": {},
   "source": [
    "We can see that the accuracy is slightly better."
   ]
  },
  {
   "cell_type": "markdown",
   "metadata": {},
   "source": [
    "## Adding some steaming"
   ]
  },
  {
   "cell_type": "code",
   "execution_count": 58,
   "metadata": {},
   "outputs": [],
   "source": [
    "import re\n",
    "from nltk.stem.snowball import SnowballStemmer\n",
    "from nltk.tokenize import word_tokenize \n",
    "stemmer = SnowballStemmer(\"english\")\n",
    "re_word = re.compile(r\"^\\w+$\")"
   ]
  },
  {
   "cell_type": "code",
   "execution_count": 59,
   "metadata": {},
   "outputs": [],
   "source": [
    "train_dataset['text_steam'] = train_dataset['text'].apply(lambda x: ' '.join([stemmer.stem(word) for word in word_tokenize(x) if re_word.match(word)]))"
   ]
  },
  {
   "cell_type": "code",
   "execution_count": 60,
   "metadata": {},
   "outputs": [],
   "source": [
    "test_dataset['text_steam'] = test_dataset['text'].apply(lambda x: ' '.join([stemmer.stem(word) for word in word_tokenize(x) if re_word.match(word)]))"
   ]
  },
  {
   "cell_type": "code",
   "execution_count": 61,
   "metadata": {},
   "outputs": [
    {
     "data": {
      "text/html": [
       "<style>#sk-container-id-5 {color: black;background-color: white;}#sk-container-id-5 pre{padding: 0;}#sk-container-id-5 div.sk-toggleable {background-color: white;}#sk-container-id-5 label.sk-toggleable__label {cursor: pointer;display: block;width: 100%;margin-bottom: 0;padding: 0.3em;box-sizing: border-box;text-align: center;}#sk-container-id-5 label.sk-toggleable__label-arrow:before {content: \"▸\";float: left;margin-right: 0.25em;color: #696969;}#sk-container-id-5 label.sk-toggleable__label-arrow:hover:before {color: black;}#sk-container-id-5 div.sk-estimator:hover label.sk-toggleable__label-arrow:before {color: black;}#sk-container-id-5 div.sk-toggleable__content {max-height: 0;max-width: 0;overflow: hidden;text-align: left;background-color: #f0f8ff;}#sk-container-id-5 div.sk-toggleable__content pre {margin: 0.2em;color: black;border-radius: 0.25em;background-color: #f0f8ff;}#sk-container-id-5 input.sk-toggleable__control:checked~div.sk-toggleable__content {max-height: 200px;max-width: 100%;overflow: auto;}#sk-container-id-5 input.sk-toggleable__control:checked~label.sk-toggleable__label-arrow:before {content: \"▾\";}#sk-container-id-5 div.sk-estimator input.sk-toggleable__control:checked~label.sk-toggleable__label {background-color: #d4ebff;}#sk-container-id-5 div.sk-label input.sk-toggleable__control:checked~label.sk-toggleable__label {background-color: #d4ebff;}#sk-container-id-5 input.sk-hidden--visually {border: 0;clip: rect(1px 1px 1px 1px);clip: rect(1px, 1px, 1px, 1px);height: 1px;margin: -1px;overflow: hidden;padding: 0;position: absolute;width: 1px;}#sk-container-id-5 div.sk-estimator {font-family: monospace;background-color: #f0f8ff;border: 1px dotted black;border-radius: 0.25em;box-sizing: border-box;margin-bottom: 0.5em;}#sk-container-id-5 div.sk-estimator:hover {background-color: #d4ebff;}#sk-container-id-5 div.sk-parallel-item::after {content: \"\";width: 100%;border-bottom: 1px solid gray;flex-grow: 1;}#sk-container-id-5 div.sk-label:hover label.sk-toggleable__label {background-color: #d4ebff;}#sk-container-id-5 div.sk-serial::before {content: \"\";position: absolute;border-left: 1px solid gray;box-sizing: border-box;top: 0;bottom: 0;left: 50%;z-index: 0;}#sk-container-id-5 div.sk-serial {display: flex;flex-direction: column;align-items: center;background-color: white;padding-right: 0.2em;padding-left: 0.2em;position: relative;}#sk-container-id-5 div.sk-item {position: relative;z-index: 1;}#sk-container-id-5 div.sk-parallel {display: flex;align-items: stretch;justify-content: center;background-color: white;position: relative;}#sk-container-id-5 div.sk-item::before, #sk-container-id-5 div.sk-parallel-item::before {content: \"\";position: absolute;border-left: 1px solid gray;box-sizing: border-box;top: 0;bottom: 0;left: 50%;z-index: -1;}#sk-container-id-5 div.sk-parallel-item {display: flex;flex-direction: column;z-index: 1;position: relative;background-color: white;}#sk-container-id-5 div.sk-parallel-item:first-child::after {align-self: flex-end;width: 50%;}#sk-container-id-5 div.sk-parallel-item:last-child::after {align-self: flex-start;width: 50%;}#sk-container-id-5 div.sk-parallel-item:only-child::after {width: 0;}#sk-container-id-5 div.sk-dashed-wrapped {border: 1px dashed gray;margin: 0 0.4em 0.5em 0.4em;box-sizing: border-box;padding-bottom: 0.4em;background-color: white;}#sk-container-id-5 div.sk-label label {font-family: monospace;font-weight: bold;display: inline-block;line-height: 1.2em;}#sk-container-id-5 div.sk-label-container {text-align: center;}#sk-container-id-5 div.sk-container {/* jupyter's `normalize.less` sets `[hidden] { display: none; }` but bootstrap.min.css set `[hidden] { display: none !important; }` so we also need the `!important` here to be able to override the default hidden behavior on the sphinx rendered scikit-learn.org. See: https://github.com/scikit-learn/scikit-learn/issues/21755 */display: inline-block !important;position: relative;}#sk-container-id-5 div.sk-text-repr-fallback {display: none;}</style><div id=\"sk-container-id-5\" class=\"sk-top-container\"><div class=\"sk-text-repr-fallback\"><pre>Pipeline(steps=[(&#x27;vect&#x27;, CountVectorizer()), (&#x27;clf&#x27;, MultinomialNB())])</pre><b>In a Jupyter environment, please rerun this cell to show the HTML representation or trust the notebook. <br />On GitHub, the HTML representation is unable to render, please try loading this page with nbviewer.org.</b></div><div class=\"sk-container\" hidden><div class=\"sk-item sk-dashed-wrapped\"><div class=\"sk-label-container\"><div class=\"sk-label sk-toggleable\"><input class=\"sk-toggleable__control sk-hidden--visually\" id=\"sk-estimator-id-13\" type=\"checkbox\" ><label for=\"sk-estimator-id-13\" class=\"sk-toggleable__label sk-toggleable__label-arrow\">Pipeline</label><div class=\"sk-toggleable__content\"><pre>Pipeline(steps=[(&#x27;vect&#x27;, CountVectorizer()), (&#x27;clf&#x27;, MultinomialNB())])</pre></div></div></div><div class=\"sk-serial\"><div class=\"sk-item\"><div class=\"sk-estimator sk-toggleable\"><input class=\"sk-toggleable__control sk-hidden--visually\" id=\"sk-estimator-id-14\" type=\"checkbox\" ><label for=\"sk-estimator-id-14\" class=\"sk-toggleable__label sk-toggleable__label-arrow\">CountVectorizer</label><div class=\"sk-toggleable__content\"><pre>CountVectorizer()</pre></div></div></div><div class=\"sk-item\"><div class=\"sk-estimator sk-toggleable\"><input class=\"sk-toggleable__control sk-hidden--visually\" id=\"sk-estimator-id-15\" type=\"checkbox\" ><label for=\"sk-estimator-id-15\" class=\"sk-toggleable__label sk-toggleable__label-arrow\">MultinomialNB</label><div class=\"sk-toggleable__content\"><pre>MultinomialNB()</pre></div></div></div></div></div></div></div>"
      ],
      "text/plain": [
       "Pipeline(steps=[('vect', CountVectorizer()), ('clf', MultinomialNB())])"
      ]
     },
     "execution_count": 61,
     "metadata": {},
     "output_type": "execute_result"
    }
   ],
   "source": [
    "text_pip.fit(train_dataset['text_steam'],train_dataset['label'])"
   ]
  },
  {
   "cell_type": "code",
   "execution_count": 63,
   "metadata": {},
   "outputs": [
    {
     "name": "stderr",
     "output_type": "stream",
     "text": [
      "C:\\Users\\PION\\anaconda3\\envs\\PYTORCH\\lib\\site-packages\\sklearn\\utils\\deprecation.py:87: FutureWarning: Function plot_confusion_matrix is deprecated; Function `plot_confusion_matrix` is deprecated in 1.0 and will be removed in 1.2. Use one of the class methods: ConfusionMatrixDisplay.from_predictions or ConfusionMatrixDisplay.from_estimator.\n",
      "  warnings.warn(msg, category=FutureWarning)\n"
     ]
    },
    {
     "data": {
      "image/png": "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\n",
      "text/plain": [
       "<Figure size 640x480 with 2 Axes>"
      ]
     },
     "metadata": {},
     "output_type": "display_data"
    }
   ],
   "source": [
    "prediction(test_dataset,'text_steam')"
   ]
  },
  {
   "cell_type": "code",
   "execution_count": 64,
   "metadata": {},
   "outputs": [
    {
     "name": "stdout",
     "output_type": "stream",
     "text": [
      "Accuracy is 0.82712\n"
     ]
    }
   ],
   "source": [
    "pred_steam = text_pip.predict(test_dataset['text_steam'])\n",
    "print('Accuracy is ' + str(np.mean(pred == test_dataset.label)))"
   ]
  }
 ],
 "metadata": {
  "kernelspec": {
   "display_name": "Python 3 (ipykernel)",
   "language": "python",
   "name": "python3"
  },
  "language_info": {
   "codemirror_mode": {
    "name": "ipython",
    "version": 3
   },
   "file_extension": ".py",
   "mimetype": "text/x-python",
   "name": "python",
   "nbconvert_exporter": "python",
   "pygments_lexer": "ipython3",
   "version": "3.9.7"
  }
 },
 "nbformat": 4,
 "nbformat_minor": 4
}
